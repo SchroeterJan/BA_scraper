{
 "cells": [
  {
   "cell_type": "code",
   "execution_count": 23,
   "metadata": {},
   "outputs": [],
   "source": [
    "datum = '28. März 2019'\n",
    "datum2 = '10. April 2019'"
   ]
  },
  {
   "cell_type": "code",
   "execution_count": 24,
   "metadata": {},
   "outputs": [
    {
     "name": "stdout",
     "output_type": "stream",
     "text": [
      "2019-03-28 00:00:00\n"
     ]
    }
   ],
   "source": [
    "import datetime\n",
    "import locale\n",
    "#locale.setlocale(locale.LC_ALL, \"deu_deu\") # Locale name on Windows\n",
    "locale.setlocale(category=locale.LC_ALL,locale=\"German\")\n",
    "#datetime.datetime.strptime(datetime.datetime.encode(\"iso-8859-16\"), \"%B %Y\") \n",
    "found = datetime.datetime.strptime(datum, '%d. %B %Y')\n",
    "print(found)"
   ]
  },
  {
   "cell_type": "code",
   "execution_count": null,
   "metadata": {},
   "outputs": [],
   "source": []
  }
 ],
 "metadata": {
  "kernelspec": {
   "display_name": "tivenv",
   "language": "python",
   "name": "python3"
  },
  "language_info": {
   "codemirror_mode": {
    "name": "ipython",
    "version": 3
   },
   "file_extension": ".py",
   "mimetype": "text/x-python",
   "name": "python",
   "nbconvert_exporter": "python",
   "pygments_lexer": "ipython3",
   "version": "3.11.0"
  }
 },
 "nbformat": 4,
 "nbformat_minor": 2
}
