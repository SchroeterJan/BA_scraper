{
 "cells": [
  {
   "cell_type": "code",
   "execution_count": 2,
   "metadata": {},
   "outputs": [],
   "source": [
    "import requests\n",
    "import json\n",
    "import pandas as pd\n",
    "import os\n"
   ]
  },
  {
   "cell_type": "code",
   "execution_count": 56,
   "metadata": {},
   "outputs": [],
   "source": [
    "def get_path():\n",
    "    if os.path.isdir(os.path.join(os.getcwd(), \"files\")):\n",
    "        save_path = os.path.join(os.getcwd(), \"files\")\n",
    "    else:\n",
    "        save_path = os.path.join(os.getcwd(), \"AW_scraper\",\"files\")\n",
    "    return save_path\n",
    "\n",
    "def load_data_preview(link, range_ = 5):\n",
    "    x = 0\n",
    "    json_list = list()\n",
    "    if range_ == None:\n",
    "        url_parliament_periods = link\n",
    "    else:\n",
    "        url_parliament_periods = link+f\"?id[gte]={x}&id[lt]={x+range_}\"\n",
    "    myResponse = requests.get(url_parliament_periods)\n",
    "    jData = json.loads(myResponse.content)\n",
    "    json_list.append(jData)\n",
    "    return json_list\n"
   ]
  },
  {
   "cell_type": "markdown",
   "metadata": {},
   "source": [
    "# Parliament Period"
   ]
  },
  {
   "cell_type": "markdown",
   "metadata": {},
   "source": [
    "- steht für ein tatsächliches Parlament (Bundestag, Landtag, etc.)\n",
    "- Attribute:\n",
    "    - Start, Ende\n",
    "    - Wahltermin\n",
    "    - Ort\n"
   ]
  },
  {
   "cell_type": "code",
   "execution_count": 57,
   "metadata": {},
   "outputs": [],
   "source": [
    "link = 'https://www.abgeordnetenwatch.de/api/v2/parliament-periods'"
   ]
  },
  {
   "cell_type": "code",
   "execution_count": 62,
   "metadata": {},
   "outputs": [],
   "source": [
    "df_list = load_data_preview(link, 6)"
   ]
  },
  {
   "cell_type": "code",
   "execution_count": 63,
   "metadata": {},
   "outputs": [
    {
     "name": "stdout",
     "output_type": "stream",
     "text": [
      "{'id': 5, 'entity_type': 'parliament', 'label': 'Bundestag', 'api_url': 'https://www.abgeordnetenwatch.de/api/v2/parliaments/5', 'abgeordnetenwatch_url': 'https://www.abgeordnetenwatch.de/bundestag', 'label_external_long': 'Bundestag', 'current_project': {'id': 132, 'entity_type': 'parliament_period', 'label': 'Bundestag 2021 - 2025', 'api_url': 'https://www.abgeordnetenwatch.de/api/v2/parliament-periods/132', 'abgeordnetenwatch_url': 'https://www.abgeordnetenwatch.de/bundestag'}}\n",
      "{'id': 4, 'entity_type': 'parliament', 'label': 'Nordrhein-Westfalen', 'api_url': 'https://www.abgeordnetenwatch.de/api/v2/parliaments/4', 'abgeordnetenwatch_url': 'https://www.abgeordnetenwatch.de/nordrhein-westfalen', 'label_external_long': 'Landtag Nordrhein-Westfalen', 'current_project': {'id': 139, 'entity_type': 'parliament_period', 'label': 'Nordrhein-Westfalen 2022 - 2027', 'api_url': 'https://www.abgeordnetenwatch.de/api/v2/parliament-periods/139', 'abgeordnetenwatch_url': 'https://www.abgeordnetenwatch.de/nordrhein-westfalen'}}\n",
      "{'id': 3, 'entity_type': 'parliament', 'label': 'Hamburg', 'api_url': 'https://www.abgeordnetenwatch.de/api/v2/parliaments/3', 'abgeordnetenwatch_url': 'https://www.abgeordnetenwatch.de/hamburg', 'label_external_long': 'Bürgerschaft Hamburg', 'current_project': {'id': 122, 'entity_type': 'parliament_period', 'label': 'Hamburg 2020 - 2025', 'api_url': 'https://www.abgeordnetenwatch.de/api/v2/parliament-periods/122', 'abgeordnetenwatch_url': 'https://www.abgeordnetenwatch.de/hamburg'}}\n",
      "{'id': 2, 'entity_type': 'parliament', 'label': 'Berlin', 'api_url': 'https://www.abgeordnetenwatch.de/api/v2/parliaments/2', 'abgeordnetenwatch_url': 'https://www.abgeordnetenwatch.de/berlin', 'label_external_long': 'Abgeordnetenhaus Berlin', 'current_project': {'id': 133, 'entity_type': 'parliament_period', 'label': 'Berlin 2021 - 2026', 'api_url': 'https://www.abgeordnetenwatch.de/api/v2/parliament-periods/133', 'abgeordnetenwatch_url': 'https://www.abgeordnetenwatch.de/berlin'}}\n",
      "{'id': 1, 'entity_type': 'parliament', 'label': 'EU-Parlament', 'api_url': 'https://www.abgeordnetenwatch.de/api/v2/parliaments/1', 'abgeordnetenwatch_url': 'https://www.abgeordnetenwatch.de/eu', 'label_external_long': 'EU-Parlament', 'current_project': {'id': 155, 'entity_type': 'parliament_period', 'label': 'EU-Parlament 2024 - 2029', 'api_url': 'https://www.abgeordnetenwatch.de/api/v2/parliament-periods/155', 'abgeordnetenwatch_url': 'https://www.abgeordnetenwatch.de/eu'}}\n"
     ]
    }
   ],
   "source": [
    "\n",
    "for i in df_list:\n",
    "    for key, value in i.items():\n",
    "        if key == \"data\":\n",
    "            for entry in value:\n",
    "                print(entry)"
   ]
  },
  {
   "cell_type": "markdown",
   "metadata": {},
   "source": [
    "# Parliament"
   ]
  },
  {
   "cell_type": "markdown",
   "metadata": {},
   "source": [
    "- steht für ein tatsächliches Parlament (Bundestag, Landtag, etc.)\n",
    "- Attribute:\n",
    "    - Current Project (aktuelle Wahlperiode - Referenz zu Parliament_Period)"
   ]
  },
  {
   "cell_type": "code",
   "execution_count": 64,
   "metadata": {},
   "outputs": [
    {
     "name": "stdout",
     "output_type": "stream",
     "text": [
      "{'id': 4, 'entity_type': 'parliament', 'label': 'Nordrhein-Westfalen', 'api_url': 'https://www.abgeordnetenwatch.de/api/v2/parliaments/4', 'abgeordnetenwatch_url': 'https://www.abgeordnetenwatch.de/nordrhein-westfalen', 'label_external_long': 'Landtag Nordrhein-Westfalen', 'current_project': {'id': 139, 'entity_type': 'parliament_period', 'label': 'Nordrhein-Westfalen 2022 - 2027', 'api_url': 'https://www.abgeordnetenwatch.de/api/v2/parliament-periods/139', 'abgeordnetenwatch_url': 'https://www.abgeordnetenwatch.de/nordrhein-westfalen'}}\n",
      "{'id': 3, 'entity_type': 'parliament', 'label': 'Hamburg', 'api_url': 'https://www.abgeordnetenwatch.de/api/v2/parliaments/3', 'abgeordnetenwatch_url': 'https://www.abgeordnetenwatch.de/hamburg', 'label_external_long': 'Bürgerschaft Hamburg', 'current_project': {'id': 122, 'entity_type': 'parliament_period', 'label': 'Hamburg 2020 - 2025', 'api_url': 'https://www.abgeordnetenwatch.de/api/v2/parliament-periods/122', 'abgeordnetenwatch_url': 'https://www.abgeordnetenwatch.de/hamburg'}}\n",
      "{'id': 2, 'entity_type': 'parliament', 'label': 'Berlin', 'api_url': 'https://www.abgeordnetenwatch.de/api/v2/parliaments/2', 'abgeordnetenwatch_url': 'https://www.abgeordnetenwatch.de/berlin', 'label_external_long': 'Abgeordnetenhaus Berlin', 'current_project': {'id': 133, 'entity_type': 'parliament_period', 'label': 'Berlin 2021 - 2026', 'api_url': 'https://www.abgeordnetenwatch.de/api/v2/parliament-periods/133', 'abgeordnetenwatch_url': 'https://www.abgeordnetenwatch.de/berlin'}}\n",
      "{'id': 1, 'entity_type': 'parliament', 'label': 'EU-Parlament', 'api_url': 'https://www.abgeordnetenwatch.de/api/v2/parliaments/1', 'abgeordnetenwatch_url': 'https://www.abgeordnetenwatch.de/eu', 'label_external_long': 'EU-Parlament', 'current_project': {'id': 155, 'entity_type': 'parliament_period', 'label': 'EU-Parlament 2024 - 2029', 'api_url': 'https://www.abgeordnetenwatch.de/api/v2/parliament-periods/155', 'abgeordnetenwatch_url': 'https://www.abgeordnetenwatch.de/eu'}}\n"
     ]
    }
   ],
   "source": [
    "link = 'https://www.abgeordnetenwatch.de/api/v2/parliaments'\n",
    "df_list = load_data_preview(link, 5)\n",
    "\n",
    "for i in df_list:\n",
    "    for key, value in i.items():\n",
    "        if key == \"data\":\n",
    "            for entry in value:\n",
    "                print(entry)"
   ]
  },
  {
   "cell_type": "markdown",
   "metadata": {},
   "source": [
    "# Politician"
   ]
  },
  {
   "cell_type": "markdown",
   "metadata": {},
   "source": [
    "\n",
    "- Infos zu Politiker\n",
    "    - Name, Geburtsjahr, Geschlecht\n",
    "    - Partei, vorherige Partei\n",
    "    - Ausbildung\n",
    "    - Wohnort\n",
    "    - Beruf\n",
    "    - Anzahl beantworteter Fragen zu Kandidatur"
   ]
  },
  {
   "cell_type": "code",
   "execution_count": 65,
   "metadata": {},
   "outputs": [
    {
     "name": "stdout",
     "output_type": "stream",
     "text": [
      "{'id': 28884, 'entity_type': 'politician', 'label': 'Karin Timmermann', 'api_url': 'https://www.abgeordnetenwatch.de/api/v2/politicians/28884', 'abgeordnetenwatch_url': 'https://www.abgeordnetenwatch.de/profile/karin-timmermann', 'first_name': 'Karin', 'last_name': 'Timmermann', 'birth_name': None, 'sex': 'f', 'year_of_birth': 1947, 'party': {'id': 1, 'entity_type': 'party', 'label': 'SPD', 'api_url': 'https://www.abgeordnetenwatch.de/api/v2/parties/1'}, 'party_past': None, 'education': 'Ausbildung zur Bürokauffrau', 'residence': None, 'occupation': 'Kauffrau, MdHB', 'statistic_questions': None, 'statistic_questions_answered': None, 'ext_id_bundestagsverwaltung': None, 'qid_wikidata': None, 'field_title': None}\n",
      "{'id': 28883, 'entity_type': 'politician', 'label': 'Brigitta Martens', 'api_url': 'https://www.abgeordnetenwatch.de/api/v2/politicians/28883', 'abgeordnetenwatch_url': 'https://www.abgeordnetenwatch.de/profile/brigitta-martens', 'first_name': 'Brigitta', 'last_name': 'Martens', 'birth_name': None, 'sex': 'f', 'year_of_birth': 1961, 'party': {'id': 2, 'entity_type': 'party', 'label': 'CDU', 'api_url': 'https://www.abgeordnetenwatch.de/api/v2/parties/2'}, 'party_past': None, 'education': 'Studium (Jura und Kunstgeschichte)', 'residence': None, 'occupation': None, 'statistic_questions': None, 'statistic_questions_answered': None, 'ext_id_bundestagsverwaltung': None, 'qid_wikidata': None, 'field_title': None}\n",
      "{'id': 28882, 'entity_type': 'politician', 'label': 'Stefan Evers', 'api_url': 'https://www.abgeordnetenwatch.de/api/v2/politicians/28882', 'abgeordnetenwatch_url': 'https://www.abgeordnetenwatch.de/profile/stefan-evers', 'first_name': 'Stefan', 'last_name': 'Evers', 'birth_name': None, 'sex': 'm', 'year_of_birth': 1979, 'party': {'id': 2, 'entity_type': 'party', 'label': 'CDU', 'api_url': 'https://www.abgeordnetenwatch.de/api/v2/parties/2'}, 'party_past': None, 'education': 'Studium der Rechtswissenschaften', 'residence': None, 'occupation': 'MdA, Bürgermeister und Senator für Finanzen', 'statistic_questions': 8, 'statistic_questions_answered': None, 'ext_id_bundestagsverwaltung': None, 'qid_wikidata': None, 'field_title': None}\n",
      "{'id': 28881, 'entity_type': 'politician', 'label': 'Martina Michels', 'api_url': 'https://www.abgeordnetenwatch.de/api/v2/politicians/28881', 'abgeordnetenwatch_url': 'https://www.abgeordnetenwatch.de/profile/martina-michels', 'first_name': 'Martina', 'last_name': 'Michels', 'birth_name': None, 'sex': 'f', 'year_of_birth': 1955, 'party': {'id': 8, 'entity_type': 'party', 'label': 'DIE LINKE', 'api_url': 'https://www.abgeordnetenwatch.de/api/v2/parties/8'}, 'party_past': None, 'education': 'Dipl. Philosophin', 'residence': None, 'occupation': 'MdEP', 'statistic_questions': 10, 'statistic_questions_answered': 6, 'ext_id_bundestagsverwaltung': None, 'qid_wikidata': 'Q1324719', 'field_title': None}\n"
     ]
    }
   ],
   "source": [
    "link = 'https://www.abgeordnetenwatch.de/api/v2/politicians'\n",
    "df_list = load_data_preview(link, 28885)\n",
    "\n",
    "for i in df_list:\n",
    "    for key, value in i.items():\n",
    "        if key == \"data\":\n",
    "            for entry in value:\n",
    "                print(entry)"
   ]
  },
  {
   "cell_type": "code",
   "execution_count": 66,
   "metadata": {},
   "outputs": [
    {
     "name": "stdout",
     "output_type": "stream",
     "text": [
      "[{'meta': {'abgeordnetenwatch_api': {'version': '2.7', 'changelog': 'https://www.abgeordnetenwatch.de/api/version-changelog/aktuell', 'licence': 'CC0 1.0', 'licence_link': 'https://creativecommons.org/publicdomain/zero/1.0/deed.de', 'documentation': 'https://www.abgeordnetenwatch.de/api/entitaeten/politician'}, 'status': 'ok', 'status_message': '', 'result': {'count': 4, 'total': 4, 'range_start': 0, 'range_end': 100}}, 'data': [{'id': 28884, 'entity_type': 'politician', 'label': 'Karin Timmermann', 'api_url': 'https://www.abgeordnetenwatch.de/api/v2/politicians/28884', 'abgeordnetenwatch_url': 'https://www.abgeordnetenwatch.de/profile/karin-timmermann', 'first_name': 'Karin', 'last_name': 'Timmermann', 'birth_name': None, 'sex': 'f', 'year_of_birth': 1947, 'party': {'id': 1, 'entity_type': 'party', 'label': 'SPD', 'api_url': 'https://www.abgeordnetenwatch.de/api/v2/parties/1'}, 'party_past': None, 'education': 'Ausbildung zur Bürokauffrau', 'residence': None, 'occupation': 'Kauffrau, MdHB', 'statistic_questions': None, 'statistic_questions_answered': None, 'ext_id_bundestagsverwaltung': None, 'qid_wikidata': None, 'field_title': None}, {'id': 28883, 'entity_type': 'politician', 'label': 'Brigitta Martens', 'api_url': 'https://www.abgeordnetenwatch.de/api/v2/politicians/28883', 'abgeordnetenwatch_url': 'https://www.abgeordnetenwatch.de/profile/brigitta-martens', 'first_name': 'Brigitta', 'last_name': 'Martens', 'birth_name': None, 'sex': 'f', 'year_of_birth': 1961, 'party': {'id': 2, 'entity_type': 'party', 'label': 'CDU', 'api_url': 'https://www.abgeordnetenwatch.de/api/v2/parties/2'}, 'party_past': None, 'education': 'Studium (Jura und Kunstgeschichte)', 'residence': None, 'occupation': None, 'statistic_questions': None, 'statistic_questions_answered': None, 'ext_id_bundestagsverwaltung': None, 'qid_wikidata': None, 'field_title': None}, {'id': 28882, 'entity_type': 'politician', 'label': 'Stefan Evers', 'api_url': 'https://www.abgeordnetenwatch.de/api/v2/politicians/28882', 'abgeordnetenwatch_url': 'https://www.abgeordnetenwatch.de/profile/stefan-evers', 'first_name': 'Stefan', 'last_name': 'Evers', 'birth_name': None, 'sex': 'm', 'year_of_birth': 1979, 'party': {'id': 2, 'entity_type': 'party', 'label': 'CDU', 'api_url': 'https://www.abgeordnetenwatch.de/api/v2/parties/2'}, 'party_past': None, 'education': 'Studium der Rechtswissenschaften', 'residence': None, 'occupation': 'MdA, Bürgermeister und Senator für Finanzen', 'statistic_questions': 8, 'statistic_questions_answered': None, 'ext_id_bundestagsverwaltung': None, 'qid_wikidata': None, 'field_title': None}, {'id': 28881, 'entity_type': 'politician', 'label': 'Martina Michels', 'api_url': 'https://www.abgeordnetenwatch.de/api/v2/politicians/28881', 'abgeordnetenwatch_url': 'https://www.abgeordnetenwatch.de/profile/martina-michels', 'first_name': 'Martina', 'last_name': 'Michels', 'birth_name': None, 'sex': 'f', 'year_of_birth': 1955, 'party': {'id': 8, 'entity_type': 'party', 'label': 'DIE LINKE', 'api_url': 'https://www.abgeordnetenwatch.de/api/v2/parties/8'}, 'party_past': None, 'education': 'Dipl. Philosophin', 'residence': None, 'occupation': 'MdEP', 'statistic_questions': 10, 'statistic_questions_answered': 6, 'ext_id_bundestagsverwaltung': None, 'qid_wikidata': 'Q1324719', 'field_title': None}]}]\n"
     ]
    }
   ],
   "source": [
    "print(df_list)"
   ]
  },
  {
   "cell_type": "markdown",
   "metadata": {},
   "source": [
    "# CandidacyMandate"
   ]
  },
  {
   "cell_type": "markdown",
   "metadata": {},
   "source": [
    "- Name\n",
    "- Parlament\n",
    "- Periode\n",
    "- Fraktion"
   ]
  },
  {
   "cell_type": "code",
   "execution_count": 67,
   "metadata": {},
   "outputs": [
    {
     "name": "stdout",
     "output_type": "stream",
     "text": [
      "{'id': 63653, 'entity_type': 'candidacy_mandate', 'label': 'Gökhan Akkamis (Bremen 2023 - 2027)', 'api_url': 'https://www.abgeordnetenwatch.de/api/v2/candidacies-mandates/63653', 'id_external_administration': None, 'id_external_administration_description': None, 'type': 'mandate', 'parliament_period': {'id': 146, 'entity_type': 'parliament_period', 'label': 'Bremen 2023 - 2027', 'api_url': 'https://www.abgeordnetenwatch.de/api/v2/parliament-periods/146', 'abgeordnetenwatch_url': 'https://www.abgeordnetenwatch.de/bremen'}, 'politician': {'id': 175730, 'entity_type': 'politician', 'label': 'Gökhan Akkamis', 'api_url': 'https://www.abgeordnetenwatch.de/api/v2/politicians/175730', 'abgeordnetenwatch_url': 'https://www.abgeordnetenwatch.de/profile/goekhan-akkamis'}, 'start_date': '2024-11-01', 'end_date': None, 'info': 'Gökhan Akkamis ist am 01.11.2024 für Hauke Hilz in die Bremische Bürgerschaft nachgerückt.', 'electoral_data': {'id': 64528, 'entity_type': 'electoral_data', 'label': 'Gökhan Akkamis (Bremen 2023 - 2027)', 'electoral_list': {'id': 551, 'entity_type': 'electoral_list', 'label': 'Wahlbereich Bremerhaven (Bremen 2023 - 2027)', 'api_url': 'https://www.abgeordnetenwatch.de/api/v2/electoral-lists/551'}, 'list_position': 2, 'constituency': {'id': 12287, 'entity_type': 'constituency', 'label': '2 - Bremerhaven (Bremen 2023 - 2027)', 'api_url': 'https://www.abgeordnetenwatch.de/api/v2/constituencies/12287'}, 'constituency_result': None, 'constituency_result_count': None, 'mandate_won': 'moved_up'}, 'fraction_membership': [{'id': 12023, 'entity_type': 'fraction_membership', 'label': 'FDP seit 01.11.2024', 'fraction': {'id': 367, 'entity_type': 'fraction', 'label': 'FDP (Bremen 2023 - 2027)', 'api_url': 'https://www.abgeordnetenwatch.de/api/v2/fractions/367'}, 'valid_from': '2024-11-01', 'valid_until': None}]}\n",
      "{'id': 63652, 'entity_type': 'candidacy_mandate', 'label': 'Lena-Sophie Laue (Niedersachsen 2022 - 2027)', 'api_url': 'https://www.abgeordnetenwatch.de/api/v2/candidacies-mandates/63652', 'id_external_administration': None, 'id_external_administration_description': None, 'type': 'mandate', 'parliament_period': {'id': 143, 'entity_type': 'parliament_period', 'label': 'Niedersachsen 2022 - 2027', 'api_url': 'https://www.abgeordnetenwatch.de/api/v2/parliament-periods/143', 'abgeordnetenwatch_url': 'https://www.abgeordnetenwatch.de/niedersachsen'}, 'politician': {'id': 179287, 'entity_type': 'politician', 'label': 'Lena-Sophie Laue', 'api_url': 'https://www.abgeordnetenwatch.de/api/v2/politicians/179287', 'abgeordnetenwatch_url': 'https://www.abgeordnetenwatch.de/profile/lena-sophie-laue'}, 'start_date': '2024-09-27', 'end_date': None, 'info': 'Lena-Sophie Laue ist am 27.09.2024 für Volker Meyer in den Niedersächsischen Landtag nachgerückt.', 'electoral_data': {'id': 64527, 'entity_type': 'electoral_data', 'label': 'Lena-Sophie Laue (Niedersachsen 2022 - 2027)', 'electoral_list': {'id': 529, 'entity_type': 'electoral_list', 'label': 'Landesliste CDU (Niedersachsen 2022 - 2027)', 'api_url': 'https://www.abgeordnetenwatch.de/api/v2/electoral-lists/529'}, 'list_position': 30, 'constituency': {'id': 11971, 'entity_type': 'constituency', 'label': '5 - Gifhorn-Nord/Wolfsburg (Niedersachsen 2022 - 2027)', 'api_url': 'https://www.abgeordnetenwatch.de/api/v2/constituencies/11971'}, 'constituency_result': None, 'constituency_result_count': None, 'mandate_won': 'moved_up'}, 'fraction_membership': [{'id': 12020, 'entity_type': 'fraction_membership', 'label': 'CDU seit 27.09.2024', 'fraction': {'id': 354, 'entity_type': 'fraction', 'label': 'CDU (Niedersachsen 2022 - 2027)', 'api_url': 'https://www.abgeordnetenwatch.de/api/v2/fractions/354'}, 'valid_from': '2024-09-27', 'valid_until': None}]}\n",
      "{'id': 63651, 'entity_type': 'candidacy_mandate', 'label': 'Daniela Oeynhausen (Brandenburg 2024 - 2029)', 'api_url': 'https://www.abgeordnetenwatch.de/api/v2/candidacies-mandates/63651', 'id_external_administration': None, 'id_external_administration_description': None, 'type': 'mandate', 'parliament_period': {'id': 158, 'entity_type': 'parliament_period', 'label': 'Brandenburg 2024 - 2029', 'api_url': 'https://www.abgeordnetenwatch.de/api/v2/parliament-periods/158', 'abgeordnetenwatch_url': 'https://www.abgeordnetenwatch.de/brandenburg'}, 'politician': {'id': 168647, 'entity_type': 'politician', 'label': 'Daniela Oeynhausen', 'api_url': 'https://www.abgeordnetenwatch.de/api/v2/politicians/168647', 'abgeordnetenwatch_url': 'https://www.abgeordnetenwatch.de/profile/daniela-oeynhausen'}, 'start_date': None, 'end_date': None, 'info': None, 'electoral_data': {'id': 64526, 'entity_type': 'electoral_data', 'label': 'Daniela Oeynhausen (Brandenburg 2024 - 2029)', 'electoral_list': {'id': 682, 'entity_type': 'electoral_list', 'label': 'Landesliste AfD (Brandenburg 2024 - 2029)', 'api_url': 'https://www.abgeordnetenwatch.de/api/v2/electoral-lists/682'}, 'list_position': 11, 'constituency': None, 'constituency_result': None, 'constituency_result_count': None, 'mandate_won': 'list'}, 'fraction_membership': [{'id': 12019, 'entity_type': 'fraction_membership', 'label': 'AfD', 'fraction': {'id': 415, 'entity_type': 'fraction', 'label': 'AfD (Brandenburg 2024 - 2029)', 'api_url': 'https://www.abgeordnetenwatch.de/api/v2/fractions/415'}, 'valid_from': None, 'valid_until': None}]}\n",
      "{'id': 63650, 'entity_type': 'candidacy_mandate', 'label': 'Dietmar Woidke (Brandenburg 2024 - 2029)', 'api_url': 'https://www.abgeordnetenwatch.de/api/v2/candidacies-mandates/63650', 'id_external_administration': None, 'id_external_administration_description': None, 'type': 'mandate', 'parliament_period': {'id': 158, 'entity_type': 'parliament_period', 'label': 'Brandenburg 2024 - 2029', 'api_url': 'https://www.abgeordnetenwatch.de/api/v2/parliament-periods/158', 'abgeordnetenwatch_url': 'https://www.abgeordnetenwatch.de/brandenburg'}, 'politician': {'id': 132887, 'entity_type': 'politician', 'label': 'Dietmar Woidke', 'api_url': 'https://www.abgeordnetenwatch.de/api/v2/politicians/132887', 'abgeordnetenwatch_url': 'https://www.abgeordnetenwatch.de/profile/dietmar-woidke'}, 'start_date': None, 'end_date': None, 'info': None, 'electoral_data': {'id': 64525, 'entity_type': 'electoral_data', 'label': 'Dietmar Woidke (Brandenburg 2024 - 2029)', 'electoral_list': {'id': 680, 'entity_type': 'electoral_list', 'label': 'Landesliste SPD (Brandenburg 2024 - 2029)', 'api_url': 'https://www.abgeordnetenwatch.de/api/v2/electoral-lists/680'}, 'list_position': 1, 'constituency': {'id': 12989, 'entity_type': 'constituency', 'label': '41 - Spree-Neiße I (Brandenburg 2024 - 2029)', 'api_url': 'https://www.abgeordnetenwatch.de/api/v2/constituencies/12989'}, 'constituency_result': 41.5, 'constituency_result_count': 11556, 'mandate_won': 'list'}, 'fraction_membership': [{'id': 12018, 'entity_type': 'fraction_membership', 'label': 'SPD', 'fraction': {'id': 413, 'entity_type': 'fraction', 'label': 'SPD (Brandenburg 2024 - 2029)', 'api_url': 'https://www.abgeordnetenwatch.de/api/v2/fractions/413'}, 'valid_from': None, 'valid_until': None}]}\n",
      "{'id': 63649, 'entity_type': 'candidacy_mandate', 'label': 'Oliver Skopec (Brandenburg 2024 - 2029)', 'api_url': 'https://www.abgeordnetenwatch.de/api/v2/candidacies-mandates/63649', 'id_external_administration': None, 'id_external_administration_description': None, 'type': 'mandate', 'parliament_period': {'id': 158, 'entity_type': 'parliament_period', 'label': 'Brandenburg 2024 - 2029', 'api_url': 'https://www.abgeordnetenwatch.de/api/v2/parliament-periods/158', 'abgeordnetenwatch_url': 'https://www.abgeordnetenwatch.de/brandenburg'}, 'politician': {'id': 182361, 'entity_type': 'politician', 'label': 'Oliver Skopec', 'api_url': 'https://www.abgeordnetenwatch.de/api/v2/politicians/182361', 'abgeordnetenwatch_url': 'https://www.abgeordnetenwatch.de/profile/oliver-skopec'}, 'start_date': None, 'end_date': None, 'info': None, 'electoral_data': {'id': 64524, 'entity_type': 'electoral_data', 'label': 'Oliver Skopec (Brandenburg 2024 - 2029)', 'electoral_list': {'id': 683, 'entity_type': 'electoral_list', 'label': 'Landesliste BSW (Brandenburg 2024 - 2029)', 'api_url': 'https://www.abgeordnetenwatch.de/api/v2/electoral-lists/683'}, 'list_position': 14, 'constituency': None, 'constituency_result': None, 'constituency_result_count': None, 'mandate_won': 'list'}, 'fraction_membership': [{'id': 12017, 'entity_type': 'fraction_membership', 'label': 'BSW', 'fraction': {'id': 414, 'entity_type': 'fraction', 'label': 'BSW (Brandenburg 2024 - 2029)', 'api_url': 'https://www.abgeordnetenwatch.de/api/v2/fractions/414'}, 'valid_from': None, 'valid_until': None}]}\n"
     ]
    }
   ],
   "source": [
    "link = 'https://www.abgeordnetenwatch.de/api/v2/candidacies-mandates'\n",
    "df_list = load_data_preview(link, None)\n",
    "x=0\n",
    "for i in df_list:\n",
    "    for key, value in i.items():\n",
    "        if key == \"data\":\n",
    "            for entry in value:\n",
    "                x+=1\n",
    "                if x<=5:\n",
    "                    print(entry)"
   ]
  },
  {
   "cell_type": "markdown",
   "metadata": {},
   "source": [
    "# Committee"
   ]
  },
  {
   "cell_type": "markdown",
   "metadata": {},
   "source": [
    "- Parlament + Periode\n",
    "- Komitee/Ausschuss\n",
    "    - Themen"
   ]
  },
  {
   "cell_type": "code",
   "execution_count": 69,
   "metadata": {},
   "outputs": [
    {
     "name": "stdout",
     "output_type": "stream",
     "text": [
      "{'id': 5791, 'entity_type': 'node', 'label': 'Wahlprüfungsausschuss', 'api_url': 'https://www.abgeordnetenwatch.de/api/v2/committees/5791', 'abgeordnetenwatch_url': 'https://www.abgeordnetenwatch.de/brandenburg/8/ausschuesse/wahlpruefungsausschuss', 'field_legislature': {'id': 158, 'entity_type': 'parliament_period', 'label': 'Brandenburg 2024 - 2029', 'api_url': 'https://www.abgeordnetenwatch.de/api/v2/parliament-periods/158', 'abgeordnetenwatch_url': 'https://www.abgeordnetenwatch.de/brandenburg'}, 'field_topics': [{'id': 24, 'entity_type': 'taxonomy_term', 'label': 'Staat und Verwaltung', 'api_url': 'https://www.abgeordnetenwatch.de/api/v2/topics/24', 'abgeordnetenwatch_url': 'https://www.abgeordnetenwatch.de/themen-dip21/staat-und-verwaltung'}]}\n",
      "{'id': 5790, 'entity_type': 'node', 'label': 'Hauptausschuss', 'api_url': 'https://www.abgeordnetenwatch.de/api/v2/committees/5790', 'abgeordnetenwatch_url': 'https://www.abgeordnetenwatch.de/brandenburg/8/ausschuesse/hauptausschuss', 'field_legislature': {'id': 158, 'entity_type': 'parliament_period', 'label': 'Brandenburg 2024 - 2029', 'api_url': 'https://www.abgeordnetenwatch.de/api/v2/parliament-periods/158', 'abgeordnetenwatch_url': 'https://www.abgeordnetenwatch.de/brandenburg'}, 'field_topics': [{'id': 1, 'entity_type': 'taxonomy_term', 'label': 'Medien, Kommunikation und Informationstechnik', 'api_url': 'https://www.abgeordnetenwatch.de/api/v2/topics/1', 'abgeordnetenwatch_url': 'https://www.abgeordnetenwatch.de/themen-dip21/medien-kommunikation-und-informationstechnik'}, {'id': 8, 'entity_type': 'taxonomy_term', 'label': 'Recht', 'api_url': 'https://www.abgeordnetenwatch.de/api/v2/topics/8', 'abgeordnetenwatch_url': 'https://www.abgeordnetenwatch.de/themen-dip21/recht'}, {'id': 24, 'entity_type': 'taxonomy_term', 'label': 'Staat und Verwaltung', 'api_url': 'https://www.abgeordnetenwatch.de/api/v2/topics/24', 'abgeordnetenwatch_url': 'https://www.abgeordnetenwatch.de/themen-dip21/staat-und-verwaltung'}]}\n",
      "{'id': 5771, 'entity_type': 'node', 'label': 'Hauptausschuss', 'api_url': 'https://www.abgeordnetenwatch.de/api/v2/committees/5771', 'abgeordnetenwatch_url': 'https://www.abgeordnetenwatch.de/sachsen/8/ausschuesse/hauptausschuss', 'field_legislature': {'id': 157, 'entity_type': 'parliament_period', 'label': 'Sachsen 2024 - 2029', 'api_url': 'https://www.abgeordnetenwatch.de/api/v2/parliament-periods/157', 'abgeordnetenwatch_url': 'https://www.abgeordnetenwatch.de/sachsen'}, 'field_topics': [{'id': 24, 'entity_type': 'taxonomy_term', 'label': 'Staat und Verwaltung', 'api_url': 'https://www.abgeordnetenwatch.de/api/v2/topics/24', 'abgeordnetenwatch_url': 'https://www.abgeordnetenwatch.de/themen-dip21/staat-und-verwaltung'}]}\n",
      "{'id': 5762, 'entity_type': 'node', 'label': 'Wahlprüfungsausschuss', 'api_url': 'https://www.abgeordnetenwatch.de/api/v2/committees/5762', 'abgeordnetenwatch_url': 'https://www.abgeordnetenwatch.de/sachsen/8/ausschuesse/wahlpruefungsausschuss', 'field_legislature': {'id': 157, 'entity_type': 'parliament_period', 'label': 'Sachsen 2024 - 2029', 'api_url': 'https://www.abgeordnetenwatch.de/api/v2/parliament-periods/157', 'abgeordnetenwatch_url': 'https://www.abgeordnetenwatch.de/sachsen'}, 'field_topics': [{'id': 8, 'entity_type': 'taxonomy_term', 'label': 'Recht', 'api_url': 'https://www.abgeordnetenwatch.de/api/v2/topics/8', 'abgeordnetenwatch_url': 'https://www.abgeordnetenwatch.de/themen-dip21/recht'}]}\n",
      "{'id': 5761, 'entity_type': 'node', 'label': 'Wahlprüfungsausschuss', 'api_url': 'https://www.abgeordnetenwatch.de/api/v2/committees/5761', 'abgeordnetenwatch_url': 'https://www.abgeordnetenwatch.de/thueringen/8/ausschuesse/wahlpruefungsausschuss', 'field_legislature': {'id': 156, 'entity_type': 'parliament_period', 'label': 'Thüringen 2024 - 2029', 'api_url': 'https://www.abgeordnetenwatch.de/api/v2/parliament-periods/156', 'abgeordnetenwatch_url': 'https://www.abgeordnetenwatch.de/thueringen'}, 'field_topics': [{'id': 8, 'entity_type': 'taxonomy_term', 'label': 'Recht', 'api_url': 'https://www.abgeordnetenwatch.de/api/v2/topics/8', 'abgeordnetenwatch_url': 'https://www.abgeordnetenwatch.de/themen-dip21/recht'}, {'id': 24, 'entity_type': 'taxonomy_term', 'label': 'Staat und Verwaltung', 'api_url': 'https://www.abgeordnetenwatch.de/api/v2/topics/24', 'abgeordnetenwatch_url': 'https://www.abgeordnetenwatch.de/themen-dip21/staat-und-verwaltung'}]}\n"
     ]
    }
   ],
   "source": [
    "link = 'https://www.abgeordnetenwatch.de/api/v2/committees'\n",
    "df_list = load_data_preview(link, None)\n",
    "x=0\n",
    "for i in df_list:\n",
    "    for key, value in i.items():\n",
    "        if key == \"data\":\n",
    "            for entry in value:\n",
    "                x+=1\n",
    "                if x<=5:\n",
    "                    print(entry)"
   ]
  },
  {
   "cell_type": "markdown",
   "metadata": {},
   "source": [
    "# CommitteeMembership"
   ]
  },
  {
   "cell_type": "markdown",
   "metadata": {},
   "source": [
    "- label: Name + Ausschuss\n",
    "- Referenz zu Mandat (candidacy Mandate)"
   ]
  },
  {
   "cell_type": "code",
   "execution_count": 70,
   "metadata": {},
   "outputs": [
    {
     "name": "stdout",
     "output_type": "stream",
     "text": [
      "{'id': 4, 'entity_type': 'committee_membership', 'label': 'Matthias W. Birkwald - Ausschuss für Arbeit und Soziales', 'api_url': 'https://www.abgeordnetenwatch.de/api/v2/committee-memberships/4', 'committee': {'id': 179, 'entity_type': 'node', 'label': 'Ausschuss für Arbeit und Soziales', 'api_url': 'https://www.abgeordnetenwatch.de/api/v2/committees/179', 'abgeordnetenwatch_url': 'https://www.abgeordnetenwatch.de/bundestag/18/ausschuesse/ausschuss-fuer-arbeit-und-soziales'}, 'candidacy_mandate': {'id': 38772, 'entity_type': 'candidacy_mandate', 'label': 'Matthias W. Birkwald (Bundestag 2013-2017)', 'api_url': 'https://www.abgeordnetenwatch.de/api/v2/candidacies-mandates/38772'}, 'committee_role': 'member', 'committee_roles_additional': None}\n",
      "{'id': 3, 'entity_type': 'committee_membership', 'label': 'Beate Müller-Gemmeke - Ausschuss für Arbeit und Soziales', 'api_url': 'https://www.abgeordnetenwatch.de/api/v2/committee-memberships/3', 'committee': {'id': 179, 'entity_type': 'node', 'label': 'Ausschuss für Arbeit und Soziales', 'api_url': 'https://www.abgeordnetenwatch.de/api/v2/committees/179', 'abgeordnetenwatch_url': 'https://www.abgeordnetenwatch.de/bundestag/18/ausschuesse/ausschuss-fuer-arbeit-und-soziales'}, 'candidacy_mandate': {'id': 39207, 'entity_type': 'candidacy_mandate', 'label': 'Beate Müller-Gemmeke (Bundestag 2013-2017)', 'api_url': 'https://www.abgeordnetenwatch.de/api/v2/candidacies-mandates/39207'}, 'committee_role': 'member', 'committee_roles_additional': None}\n",
      "{'id': 2, 'entity_type': 'committee_membership', 'label': 'Matthias Zimmer - Ausschuss für Arbeit und Soziales', 'api_url': 'https://www.abgeordnetenwatch.de/api/v2/committee-memberships/2', 'committee': {'id': 179, 'entity_type': 'node', 'label': 'Ausschuss für Arbeit und Soziales', 'api_url': 'https://www.abgeordnetenwatch.de/api/v2/committees/179', 'abgeordnetenwatch_url': 'https://www.abgeordnetenwatch.de/bundestag/18/ausschuesse/ausschuss-fuer-arbeit-und-soziales'}, 'candidacy_mandate': {'id': 38792, 'entity_type': 'candidacy_mandate', 'label': 'Matthias Zimmer (Bundestag 2013-2017)', 'api_url': 'https://www.abgeordnetenwatch.de/api/v2/candidacies-mandates/38792'}, 'committee_role': 'vice_chairperson', 'committee_roles_additional': None}\n",
      "{'id': 1, 'entity_type': 'committee_membership', 'label': 'Kerstin Griese - Ausschuss für Arbeit und Soziales', 'api_url': 'https://www.abgeordnetenwatch.de/api/v2/committee-memberships/1', 'committee': {'id': 179, 'entity_type': 'node', 'label': 'Ausschuss für Arbeit und Soziales', 'api_url': 'https://www.abgeordnetenwatch.de/api/v2/committees/179', 'abgeordnetenwatch_url': 'https://www.abgeordnetenwatch.de/bundestag/18/ausschuesse/ausschuss-fuer-arbeit-und-soziales'}, 'candidacy_mandate': {'id': 39577, 'entity_type': 'candidacy_mandate', 'label': 'Kerstin Griese (Bundestag 2013-2017)', 'api_url': 'https://www.abgeordnetenwatch.de/api/v2/candidacies-mandates/39577'}, 'committee_role': 'chairperson', 'committee_roles_additional': None}\n"
     ]
    }
   ],
   "source": [
    "link = 'https://www.abgeordnetenwatch.de/api/v2/committee-memberships'\n",
    "df_list = load_data_preview(link)\n",
    "x=0\n",
    "for i in df_list:\n",
    "    for key, value in i.items():\n",
    "        if key == \"data\":\n",
    "            for entry in value:\n",
    "                x+=1\n",
    "                if x<=5:\n",
    "                    print(entry)"
   ]
  },
  {
   "cell_type": "markdown",
   "metadata": {},
   "source": [
    "# Poll"
   ]
  },
  {
   "cell_type": "markdown",
   "metadata": {},
   "source": [
    "- Fragebogen?"
   ]
  },
  {
   "cell_type": "code",
   "execution_count": 71,
   "metadata": {},
   "outputs": [
    {
     "name": "stdout",
     "output_type": "stream",
     "text": [
      "{'id': 5782, 'entity_type': 'node', 'label': 'Position des EU-Parlaments zum Haushaltsplan 2025', 'api_url': 'https://www.abgeordnetenwatch.de/api/v2/polls/5782', 'abgeordnetenwatch_url': 'https://www.abgeordnetenwatch.de/eu/10/abstimmungen/position-des-eu-parlaments-zum-haushaltsplan-2025', 'field_accepted': False, 'field_committees': None, 'field_intro': '<p>Das EU-Parlament hat seine <a class=\"link-read-more\" href=\"https://www.europarl.europa.eu/doceo/document/A-10-2024-0008_DE.html\" target=\"_blank\">Position</a> für die Budgetberatungen in den nächsten Wochen zum Haushaltsplan 2025 festgelegt. Vor den Verhandlungen mit dem Rat und den Mitgliedstaaten schlagen die Abgeordneten ein Gesamtbudget von fast 201 Milliarden Euro vor. Anders als die nationalen Haushalte ist der EU-Haushalt verstärkt auf Investitionen und Wachstum ausgerichtet. So sollen zukünftig Programme zur Bewältigung von Herausforderungen im Gesundheitsbereich aufgestockt, junge Menschen und ländliche Gebiete unterstützt, der Klimaschutz gefördert sowie Mittel für Migrations- und Sicherheitsbedürfnisse abgedeckt werden können. Vom Rat empfohlene Mittelkürzungen, etwa für Austauschprogramme wie Erasmus, wies das Parlament zurück.</p><p><strong>Achtung: Die rechts dargestellten Abstimmungsergebnisse spiegeln nur das Abstimmungsverhalten der 96 deutschen EU-Abgeordneten wider und nicht das aller 720 EU-Abgeordneten.</strong></p><p>Die zur Parlamentsposition gehörige Resolution wurde insgesamt mit 233 Ja-Stimmen zu 360 Nein-Stimmen bei 59 Enthaltungen <strong>abgelehnt</strong>. Zuvor hatte es Unstimmigkeiten im Parlament gegeben, nachdem die EVP-Fraktion einem Änderungsantrag der ESN-Fraktion zum Haushalt betreffend physischen Barrieren an den Außengrenzen der Union zugestimmt hatte. Infolgedessen scheiterte die gesamte Haushaltsabstimmung. Von den deutschen EU-Abgeordneten stimmten 43 für die Resolution und 43 dagegen. Es gab keine Enthaltungen.</p>', 'field_legislature': {'id': 155, 'entity_type': 'parliament_period', 'label': 'EU-Parlament 2024 - 2029', 'api_url': 'https://www.abgeordnetenwatch.de/api/v2/parliament-periods/155', 'abgeordnetenwatch_url': 'https://www.abgeordnetenwatch.de/eu'}, 'field_poll_date': '2024-10-23', 'field_related_links': [{'uri': 'entity:node/4907', 'title': 'Namentliche Abstimmungen: ABC der wichtigsten Begriffe'}], 'field_topics': [{'id': 4, 'entity_type': 'taxonomy_term', 'label': 'Europapolitik und Europäische Union', 'api_url': 'https://www.abgeordnetenwatch.de/api/v2/topics/4', 'abgeordnetenwatch_url': 'https://www.abgeordnetenwatch.de/themen-dip21/europapolitik-und-europaeische-union'}, {'id': 22, 'entity_type': 'taxonomy_term', 'label': 'Öffentliche Finanzen, Steuern und Abgaben', 'api_url': 'https://www.abgeordnetenwatch.de/api/v2/topics/22', 'abgeordnetenwatch_url': 'https://www.abgeordnetenwatch.de/themen-dip21/oeffentliche-finanzen-steuern-und-abgaben'}]}\n",
      "{'id': 5781, 'entity_type': 'node', 'label': 'Bis zu 35 Milliarden Euro Darlehen an die Ukraine', 'api_url': 'https://www.abgeordnetenwatch.de/api/v2/polls/5781', 'abgeordnetenwatch_url': 'https://www.abgeordnetenwatch.de/eu/10/abstimmungen/bis-zu-35-milliarden-euro-darlehen-an-die-ukraine', 'field_accepted': True, 'field_committees': None, 'field_intro': '<p>Das EU-Parlament hat einer <a class=\"link-read-more\" href=\"https://www.europarl.europa.eu/doceo/document/A-10-2024-0006_DE.html#_section2\" target=\"_blank\">Verordnung</a> zugestimmt, durch die der Ukraine finanzielle Mittel von bis zu 35 Milliarden Euro zugesichert werden sollen. Die Makrofinanzhilfe (MFA) soll der Beitrag der EU zur sogenannten G7-Initiative (G7-Darlehensinitiative zur außergewöhnlichen Einnahmebeschleunigung für die Ukraine) sein, die im vergangenen Juni beschlossen worden war. Durch die Einrichtung eines \"Kooperationsmechanismus für Ukraine-Darlehen\" sollen für die Rückzahlung der Darlehen die Gewinne aus eingefrorenen russischen Vermögenswerten verwendet werden können. Ausgezahlt werden sollen die MFA-Mittel bis Ende 2025.</p><p><strong>Achtung: Die rechts dargestellten Abstimmungsergebnisse spiegeln nur das Abstimmungsverhalten der 96 deutschen EU-Abgeordneten wider und nicht das aller 720 EU-Abgeordneten.</strong></p><p>Der Vorschlag für eine Verordnung wurde insgesamt mit 518 Ja-Stimmen zu 56 Nein-Stimmen bei 61 Enthaltungen <strong>angenommen</strong>. Von den deutschen Abgeordneten im EU-Parlament stimmten 67 dafür und 17 dagegen. Es gab eine Enthaltung von <a class=\"link-profile\" href=\"https://www.abgeordnetenwatch.de/profile/oezlem-demirel\" target=\"_blank\">Özlem Demirel</a> (Fraktion The Left).</p>', 'field_legislature': {'id': 155, 'entity_type': 'parliament_period', 'label': 'EU-Parlament 2024 - 2029', 'api_url': 'https://www.abgeordnetenwatch.de/api/v2/parliament-periods/155', 'abgeordnetenwatch_url': 'https://www.abgeordnetenwatch.de/eu'}, 'field_poll_date': '2024-10-22', 'field_related_links': [{'uri': 'entity:node/4907', 'title': 'Namentliche Abstimmungen: ABC der wichtigsten Begriffe'}], 'field_topics': [{'id': 21, 'entity_type': 'taxonomy_term', 'label': 'Außenpolitik und internationale Beziehungen', 'api_url': 'https://www.abgeordnetenwatch.de/api/v2/topics/21', 'abgeordnetenwatch_url': 'https://www.abgeordnetenwatch.de/themen-dip21/aussenpolitik-und-internationale-beziehungen'}, {'id': 22, 'entity_type': 'taxonomy_term', 'label': 'Öffentliche Finanzen, Steuern und Abgaben', 'api_url': 'https://www.abgeordnetenwatch.de/api/v2/topics/22', 'abgeordnetenwatch_url': 'https://www.abgeordnetenwatch.de/themen-dip21/oeffentliche-finanzen-steuern-und-abgaben'}]}\n",
      "{'id': 5779, 'entity_type': 'node', 'label': 'Abstimmungen zum Sicherheitspaket', 'api_url': 'https://www.abgeordnetenwatch.de/api/v2/polls/5779', 'abgeordnetenwatch_url': 'https://www.abgeordnetenwatch.de/bundestag/20/abstimmungen/abstimmungen-zum-sicherheitspaket', 'field_accepted': True, 'field_committees': [{'id': 4416, 'entity_type': 'node', 'label': 'Ausschuss für Inneres und Heimat', 'api_url': 'https://www.abgeordnetenwatch.de/api/v2/committees/4416', 'abgeordnetenwatch_url': 'https://www.abgeordnetenwatch.de/bundestag/20/ausschuesse/ausschuss-fuer-inneres-und-heimat'}], 'field_intro': '<p>Im Rahmen der <a class=\"link-read-more\" href=\"https://www.bundestag.de/dokumente/textarchiv/2024/kw42-de-drittstaatenangehoerige-1023860\" target=\"_blank\">Debatte</a> zum sogenannten \"Sicherheitspaket\" im Bundestag wurde unter anderem namentlich über zwei Gesetzentwürfe der Koalitionsfraktionen <a class=\"link-committees\" href=\"https://www.abgeordnetenwatch.de/bundestag/abgeordnete?fraction=319&amp;constituency=All&amp;electoral_list=All&amp;candidacy_mandate_status_with_context=current_last\" target=\"_blank\">SPD</a>, <a class=\"link-committees\" href=\"https://www.abgeordnetenwatch.de/bundestag/abgeordnete?fraction=321&amp;constituency=All&amp;electoral_list=All&amp;candidacy_mandate_status_with_context=current_last\" target=\"_blank\">BÜNDNIS 90/DIE GRÜNEN</a> und <a class=\"link-committees\" href=\"https://www.abgeordnetenwatch.de/bundestag/abgeordnete?fraction=322&amp;constituency=All&amp;electoral_list=All&amp;candidacy_mandate_status_with_context=current_last\" target=\"_blank\">FDP</a> in den vom Innenausschuss <a class=\"link-read-more\" href=\"https://dserver.bundestag.de/btd/20/134/2013413.pdf\" target=\"_blank\">geänderten Fassungen</a> abgestimmt.&nbsp;</p><p>Der <a class=\"link-read-more\" href=\"https://dserver.bundestag.de/btd/20/128/2012805.pdf\" target=\"_blank\">erste Gesetzentwurf</a> \"zur Verbesserung der inneren Sicherheit und des Asylsystems\" sieht Änderungen im Bundesverfassungsschutzgesetz, im Asyl- und Aufenthaltsrecht sowie im Waffenrecht vor. So sollen beispielsweise Heimreisen von Schutzberechtigten zukünftig zur Aberkennung des Schutzstatus führen. Außerdem soll das Bundesamt für Migration und Flüchtlinge, welches für die Identitätssicherung eines:einer Asylsuchenden zuständig ist, die Berechtigung zum biometrischen Abgleich mit öffentlich zugänglichen Daten erhalten. Verschärft werden soll auch das Waffengesetz, damit Extremist:innen und Terrorist:innen nicht in den Besitz von Waffen kommen und leichter entwaffnet werden können.</p><p>Der <a class=\"link-read-more\" href=\"https://dserver.bundestag.de/btd/20/128/2012806.pdf\" target=\"_blank\">zweite Gesetzentwurf</a> \"zur Verbesserung der Terrorismusbekämpfung“ sieht neue Befugnisse für den biometrischen Internetabgleich vor, um mutmaßliche Terrorist:innen und Tatverdächtige schneller identifizieren und lokalisieren zu können. Zudem sollen neue Berechtigungen zur automatisierten Datenanalyse für Bundeskriminalamt und Bundespolizei geschaffen werden. Erlaubt werden soll auch die stichprobenartige Befragung, Identitätskontrolle und Durchsuchung von Personen, die im Fall der Anordnung von Waffenverbotszonen diese betreten möchten oder sich darin befinden.</p><p><strong>Achtung: Die hier dargestellten Abstimmungergebnisse beziehen sich ausschließlich auf die Abstimmung zum ersten Gesetzentwurf \"zur Verbesserung der inneren Sicherheit und des Asylsystems\".&nbsp;</strong></p><p>Der Gesetzentwurf der Koalitionsfraktionen \"zur Verbesserung der inneren Sicherheit und des Asylsystems\" wurde mit 357 Stimmen <strong>angenommen</strong>. 289 Abgeordnete stimmten dagegen, es gab acht Enthaltungen. Gegenstimmen und Enthaltungen kamen dabei auch aus den Fraktionen der SPD, BÜNDNIS 90/DIE GRÜNEN und FDP, bereits zuvor galt das Sicherheitspaket als umstritten.</p><p><em>Der Gesetzentwurf \"zur Verbesserung der Terrorismusbekämpfung\" wurde mit 367 Ja-Stimmen zu 280 Nein-Stimmen bei vier Enthaltungen ebenfalls <strong>angenommen</strong>. Weitere namentliche Abstimmungen, die sich auf das Sicherheitspaket beziehen, finden Sie weiter unten unter \"Weitere namentliche Abstimmungen\".</em></p>', 'field_legislature': {'id': 132, 'entity_type': 'parliament_period', 'label': 'Bundestag 2021 - 2025', 'api_url': 'https://www.abgeordnetenwatch.de/api/v2/parliament-periods/132', 'abgeordnetenwatch_url': 'https://www.abgeordnetenwatch.de/bundestag'}, 'field_poll_date': '2024-10-18', 'field_related_links': [{'uri': 'entity:node/4907', 'title': 'Namentliche Abstimmungen: ABC der wichtigsten Begriffe'}], 'field_topics': [{'id': 23, 'entity_type': 'taxonomy_term', 'label': 'Innere Sicherheit', 'api_url': 'https://www.abgeordnetenwatch.de/api/v2/topics/23', 'abgeordnetenwatch_url': 'https://www.abgeordnetenwatch.de/themen-dip21/innere-sicherheit'}, {'id': 25, 'entity_type': 'taxonomy_term', 'label': 'Migration und Aufenthaltsrecht', 'api_url': 'https://www.abgeordnetenwatch.de/api/v2/topics/25', 'abgeordnetenwatch_url': 'https://www.abgeordnetenwatch.de/themen-dip21/migration-und-aufenthaltsrecht'}]}\n",
      "{'id': 5777, 'entity_type': 'node', 'label': 'Gesetzentwurf zum Krankenhausversorgungsverbesserungsgesetz', 'api_url': 'https://www.abgeordnetenwatch.de/api/v2/polls/5777', 'abgeordnetenwatch_url': 'https://www.abgeordnetenwatch.de/bundestag/20/abstimmungen/gesetzentwurf-zum-krankenhausversorgungsverbesserungsgesetz', 'field_accepted': True, 'field_committees': [{'id': 4411, 'entity_type': 'node', 'label': 'Gesundheitsausschuss', 'api_url': 'https://www.abgeordnetenwatch.de/api/v2/committees/4411', 'abgeordnetenwatch_url': 'https://www.abgeordnetenwatch.de/bundestag/20/ausschuesse/gesundheitsausschuss'}], 'field_intro': '<p>Die Bundesregierung hat einen <a class=\"link-read-more\" href=\"https://dserver.bundestag.de/btd/20/118/2011854.pdf\" target=\"_blank\">Gesetzentwurf</a> zur Verbesserung der Versorgungsqualität im Krankenhaus und zur Reform der Vergütungsstrukturen in den Bundestag eingebracht, über den namentlich abgestimmt wurde. Ziel der geplanten Krankenhausreform sei die Sicherung und Verbesserung der Behandlungsqualität, die Gewährleistung einer flächendeckenden medizinischen Versorgung sowie die Steigerung der Effizienz durch Entbürokratisierung. Ein zentraler Punkt ist die Novellierung des bisher maßgeblich auf Fallpauschalen basierenden Systems der Krankenhausvergütung. Künftig sollen 60 Prozent der Betriebskosten über eine Vorhaltepauschale abgegolten werden. Für die geplante Strukturreform der Krankenhäuser soll ein Transformationsfond in Höhe von 50 Milliarden Euro mit einer Laufzeit von zehn Jahren aufgesetzt werden. Getragen wird dieser jeweils zur Hälfte von den Ländern und Mitteln des Bundes.&nbsp;</p><p>Zum Gesetzentwurf lag eine <a class=\"link-read-more\" href=\"https://dserver.bundestag.de/btd/20/128/2012894.pdf\" target=\"_blank\">Unterrichtung durch die Bundesregierung</a> mit Stellungnahmen des Bundesrates und Gegenäußerungen der Bundesregierung vor. Zur Abstimmung lagen eine <a class=\"link-read-more\" href=\"https://dserver.bundestag.de/btd/20/134/2013407.pdf\" target=\"_blank\">Beschlussempfehlung </a>des <a class=\"link-committees\" href=\"https://www.abgeordnetenwatch.de/bundestag/20/ausschuesse/gesundheitsausschuss\" target=\"_blank\">Gesundheitsausschusses</a> sowie ein <a class=\"link-read-more\" href=\"https://dserver.bundestag.de/btd/20/134/2013408.pdf\" target=\"_blank\">Bericht</a> des <a class=\"link-committees\" href=\"https://www.abgeordnetenwatch.de/bundestag/20/ausschuesse/haushaltsausschuss\" target=\"_blank\">Haushaltsausschusses</a> vor. Mehrere Entschließungsanträge aus der Opposition wurden abgelehnt.</p><p>Der Gesetzentwurf der Bundesregierung wurde mit 373 Stimmen <strong>angenommen. </strong>285 Abgeordnete stimmten dagegen, es gab eine Enthaltung von <a class=\"link-read-more\" href=\"https://www.abgeordnetenwatch.de/profile/stefan-seidler\" target=\"_blank\">Stefan Seidler</a> (SSW).&nbsp;</p>', 'field_legislature': {'id': 132, 'entity_type': 'parliament_period', 'label': 'Bundestag 2021 - 2025', 'api_url': 'https://www.abgeordnetenwatch.de/api/v2/parliament-periods/132', 'abgeordnetenwatch_url': 'https://www.abgeordnetenwatch.de/bundestag'}, 'field_poll_date': '2024-10-17', 'field_related_links': [{'uri': 'entity:node/4907', 'title': 'Namentliche Abstimmungen: ABC der wichtigsten Begriffe'}], 'field_topics': [{'id': 28, 'entity_type': 'taxonomy_term', 'label': 'Gesundheit', 'api_url': 'https://www.abgeordnetenwatch.de/api/v2/topics/28', 'abgeordnetenwatch_url': 'https://www.abgeordnetenwatch.de/themen-dip21/gesundheit'}]}\n",
      "{'id': 5774, 'entity_type': 'node', 'label': 'Aufhebung des Lieferkettensorgfaltspflichtengesetzes', 'api_url': 'https://www.abgeordnetenwatch.de/api/v2/polls/5774', 'abgeordnetenwatch_url': 'https://www.abgeordnetenwatch.de/bundestag/20/abstimmungen/aufhebung-des-lieferkettensorgfaltspflichtengesetzes', 'field_accepted': False, 'field_committees': [{'id': 4405, 'entity_type': 'node', 'label': 'Ausschuss für Arbeit und Soziales', 'api_url': 'https://www.abgeordnetenwatch.de/api/v2/committees/4405', 'abgeordnetenwatch_url': 'https://www.abgeordnetenwatch.de/bundestag/20/ausschuesse/ausschuss-fuer-arbeit-und-soziales'}], 'field_intro': '<p>Die <a class=\"link-committees\" href=\"https://www.abgeordnetenwatch.de/bundestag/abgeordnete?fraction=320&amp;constituency=All&amp;electoral_list=All&amp;candidacy_mandate_status_with_context=current_last\" target=\"_blank\">Unionsfraktion</a> hat einen <a class=\"link-read-more\" href=\"https://dserver.bundestag.de/btd/20/117/2011752.pdf\" target=\"_blank\">Gesetzentwurf</a> zur namentlichen Abstimmung in den Bundestag eingebracht, welcher die Aufhebung des Lieferkettensorgfaltspflichtengesetzes vorsieht. Das Lieferkettengesetz verpflichtet Unternehmen ab einer Größe von 1.000 Mitarbeitenden dazu, bestimmte Sorgfaltspflichten in Bezug auf den Schutz von Menschenrechten und Umweltrisiken einzuhalten und entlang der Lieferkette zu kontrollieren. Aufgrund verschiedener Krisen in der vergangenen Zeit führe das Gesetz laut Unionsfraktion zu einem erhöhten Druck auf internationale Lieferketten und erschwere Wirtschaftsbeziehungen. Daher solle es mit sofortiger Wirkung außer Kraft gesetzt werden.</p><p>Zu dem Gesetzentwurf lag eine <a class=\"link-read-more\" href=\"https://dserver.bundestag.de/btd/20/130/2013044.pdf\" target=\"_blank\">Beschlussempfehlung</a> des <a class=\"link-committees\" href=\"https://www.abgeordnetenwatch.de/bundestag/20/ausschuesse/ausschuss-fuer-arbeit-und-soziales\" target=\"_blank\">Ausschusses für Arbeit und Soziales</a> vor. Darin wird die Ablehung des Gesetzes empfohlen.</p><p>Der Gesetzentwurf der Fraktion der CDU/CSU wurde mit 412 Stimmen <strong>abgelehnt</strong>. 247 Abgeordnete stimmten dafür, es gab eine Enthaltung von <a class=\"link-profile\" href=\"https://www.abgeordnetenwatch.de/profile/christoph-hoffmann\" target=\"_blank\">Christoph Hoffmann</a> (FDP).</p>', 'field_legislature': {'id': 132, 'entity_type': 'parliament_period', 'label': 'Bundestag 2021 - 2025', 'api_url': 'https://www.abgeordnetenwatch.de/api/v2/parliament-periods/132', 'abgeordnetenwatch_url': 'https://www.abgeordnetenwatch.de/bundestag'}, 'field_poll_date': '2024-10-17', 'field_related_links': [{'uri': 'entity:node/4907', 'title': 'Namentliche Abstimmungen: ABC der wichtigsten Begriffe'}], 'field_topics': [{'id': 11, 'entity_type': 'taxonomy_term', 'label': 'Außenwirtschaft', 'api_url': 'https://www.abgeordnetenwatch.de/api/v2/topics/11', 'abgeordnetenwatch_url': 'https://www.abgeordnetenwatch.de/themen-dip21/aussenwirtschaft'}, {'id': 19, 'entity_type': 'taxonomy_term', 'label': 'Wirtschaft', 'api_url': 'https://www.abgeordnetenwatch.de/api/v2/topics/19', 'abgeordnetenwatch_url': 'https://www.abgeordnetenwatch.de/themen-dip21/wirtschaft'}]}\n"
     ]
    }
   ],
   "source": [
    "link = 'https://www.abgeordnetenwatch.de/api/v2/polls'\n",
    "df_list = load_data_preview(link, None)\n",
    "x=0\n",
    "for i in df_list:\n",
    "    for key, value in i.items():\n",
    "        if key == \"data\":\n",
    "            for entry in value:\n",
    "                x+=1\n",
    "                if x<=5:\n",
    "                    print(entry)"
   ]
  },
  {
   "cell_type": "markdown",
   "metadata": {},
   "source": [
    "# Vote"
   ]
  },
  {
   "cell_type": "markdown",
   "metadata": {},
   "source": [
    "- Antwort auf Fragenbogen (Poll) je Politiker?"
   ]
  },
  {
   "cell_type": "code",
   "execution_count": 72,
   "metadata": {},
   "outputs": [
    {
     "name": "stdout",
     "output_type": "stream",
     "text": [
      "{'id': 4, 'entity_type': 'vote', 'label': 'Dirk Becker - Stärkung der Unabhängigkeit der Datenschutzaufsicht', 'api_url': 'https://www.abgeordnetenwatch.de/api/v2/votes/4', 'mandate': {'id': 44396, 'entity_type': 'candidacy_mandate', 'label': 'Dirk Becker (Bundestag 2013-2017)', 'api_url': 'https://www.abgeordnetenwatch.de/api/v2/candidacies-mandates/44396'}, 'poll': {'id': 865, 'entity_type': 'node', 'label': 'Stärkung der Unabhängigkeit der Datenschutzaufsicht', 'api_url': 'https://www.abgeordnetenwatch.de/api/v2/polls/865', 'abgeordnetenwatch_url': 'https://www.abgeordnetenwatch.de/bundestag/18/abstimmungen/staerkung-der-unabhaengigkeit-der-datenschutzaufsicht'}, 'vote': 'no_show', 'reason_no_show': None, 'reason_no_show_other': None, 'fraction': {'id': 45, 'entity_type': 'fraction', 'label': 'SPD (Bundestag 2013-2017)', 'api_url': 'https://www.abgeordnetenwatch.de/api/v2/fractions/45'}}\n",
      "{'id': 3, 'entity_type': 'vote', 'label': 'Niels Annen - Stärkung der Unabhängigkeit der Datenschutzaufsicht', 'api_url': 'https://www.abgeordnetenwatch.de/api/v2/votes/3', 'mandate': {'id': 39815, 'entity_type': 'candidacy_mandate', 'label': 'Niels Annen (Bundestag 2013-2017)', 'api_url': 'https://www.abgeordnetenwatch.de/api/v2/candidacies-mandates/39815'}, 'poll': {'id': 865, 'entity_type': 'node', 'label': 'Stärkung der Unabhängigkeit der Datenschutzaufsicht', 'api_url': 'https://www.abgeordnetenwatch.de/api/v2/polls/865', 'abgeordnetenwatch_url': 'https://www.abgeordnetenwatch.de/bundestag/18/abstimmungen/staerkung-der-unabhaengigkeit-der-datenschutzaufsicht'}, 'vote': 'no_show', 'reason_no_show': None, 'reason_no_show_other': None, 'fraction': {'id': 45, 'entity_type': 'fraction', 'label': 'SPD (Bundestag 2013-2017)', 'api_url': 'https://www.abgeordnetenwatch.de/api/v2/fractions/45'}}\n",
      "{'id': 2, 'entity_type': 'vote', 'label': 'Rainer Arnold - Stärkung der Unabhängigkeit der Datenschutzaufsicht', 'api_url': 'https://www.abgeordnetenwatch.de/api/v2/votes/2', 'mandate': {'id': 44364, 'entity_type': 'candidacy_mandate', 'label': 'Rainer Arnold (Bundestag 2013-2017)', 'api_url': 'https://www.abgeordnetenwatch.de/api/v2/candidacies-mandates/44364'}, 'poll': {'id': 865, 'entity_type': 'node', 'label': 'Stärkung der Unabhängigkeit der Datenschutzaufsicht', 'api_url': 'https://www.abgeordnetenwatch.de/api/v2/polls/865', 'abgeordnetenwatch_url': 'https://www.abgeordnetenwatch.de/bundestag/18/abstimmungen/staerkung-der-unabhaengigkeit-der-datenschutzaufsicht'}, 'vote': 'no_show', 'reason_no_show': None, 'reason_no_show_other': None, 'fraction': {'id': 45, 'entity_type': 'fraction', 'label': 'SPD (Bundestag 2013-2017)', 'api_url': 'https://www.abgeordnetenwatch.de/api/v2/fractions/45'}}\n",
      "{'id': 1, 'entity_type': 'vote', 'label': 'Christian Petry - Stärkung der Unabhängigkeit der Datenschutzaufsicht', 'api_url': 'https://www.abgeordnetenwatch.de/api/v2/votes/1', 'mandate': {'id': 39822, 'entity_type': 'candidacy_mandate', 'label': 'Christian Petry (Bundestag 2013-2017)', 'api_url': 'https://www.abgeordnetenwatch.de/api/v2/candidacies-mandates/39822'}, 'poll': {'id': 865, 'entity_type': 'node', 'label': 'Stärkung der Unabhängigkeit der Datenschutzaufsicht', 'api_url': 'https://www.abgeordnetenwatch.de/api/v2/polls/865', 'abgeordnetenwatch_url': 'https://www.abgeordnetenwatch.de/bundestag/18/abstimmungen/staerkung-der-unabhaengigkeit-der-datenschutzaufsicht'}, 'vote': 'no_show', 'reason_no_show': None, 'reason_no_show_other': None, 'fraction': {'id': 45, 'entity_type': 'fraction', 'label': 'SPD (Bundestag 2013-2017)', 'api_url': 'https://www.abgeordnetenwatch.de/api/v2/fractions/45'}}\n"
     ]
    }
   ],
   "source": [
    "link = 'https://www.abgeordnetenwatch.de/api/v2/votes'\n",
    "df_list = load_data_preview(link)\n",
    "\n",
    "for i in df_list:\n",
    "    for key, value in i.items():\n",
    "        if key == \"data\":\n",
    "            for entry in value:\n",
    "                print(entry)"
   ]
  },
  {
   "cell_type": "markdown",
   "metadata": {},
   "source": [
    "# Party"
   ]
  },
  {
   "cell_type": "markdown",
   "metadata": {},
   "source": [
    "- Name + Abkürzung"
   ]
  },
  {
   "cell_type": "code",
   "execution_count": 73,
   "metadata": {},
   "outputs": [
    {
     "name": "stdout",
     "output_type": "stream",
     "text": [
      "{'id': 4, 'entity_type': 'party', 'label': 'FDP', 'api_url': 'https://www.abgeordnetenwatch.de/api/v2/parties/4', 'full_name': 'FDP', 'short_name': 'FDP'}\n",
      "{'id': 3, 'entity_type': 'party', 'label': 'CSU', 'api_url': 'https://www.abgeordnetenwatch.de/api/v2/parties/3', 'full_name': 'CSU', 'short_name': 'CSU'}\n",
      "{'id': 2, 'entity_type': 'party', 'label': 'CDU', 'api_url': 'https://www.abgeordnetenwatch.de/api/v2/parties/2', 'full_name': 'CDU', 'short_name': 'CDU'}\n",
      "{'id': 1, 'entity_type': 'party', 'label': 'SPD', 'api_url': 'https://www.abgeordnetenwatch.de/api/v2/parties/1', 'full_name': 'SPD', 'short_name': 'SPD'}\n"
     ]
    }
   ],
   "source": [
    "link = 'https://www.abgeordnetenwatch.de/api/v2/parties'\n",
    "df_list = load_data_preview(link)\n",
    "\n",
    "for i in df_list:\n",
    "    for key, value in i.items():\n",
    "        if key == \"data\":\n",
    "            for entry in value:\n",
    "                print(entry)"
   ]
  },
  {
   "cell_type": "markdown",
   "metadata": {},
   "source": [
    "# Fractions"
   ]
  },
  {
   "cell_type": "markdown",
   "metadata": {},
   "source": [
    "- Fraktion, Ort, Periode"
   ]
  },
  {
   "cell_type": "code",
   "execution_count": 74,
   "metadata": {},
   "outputs": [
    {
     "name": "stdout",
     "output_type": "stream",
     "text": [
      "{'id': 4, 'entity_type': 'fraction', 'label': 'CDU (Berlin 2011-2016)', 'api_url': 'https://www.abgeordnetenwatch.de/api/v2/fractions/4', 'full_name': 'CDU', 'short_name': 'CDU', 'legislature': {'id': 63, 'entity_type': 'parliament_period', 'label': 'Berlin 2011 - 2016', 'api_url': 'https://www.abgeordnetenwatch.de/api/v2/parliament-periods/63', 'abgeordnetenwatch_url': 'https://www.abgeordnetenwatch.de/berlin/17'}}\n",
      "{'id': 3, 'entity_type': 'fraction', 'label': 'DIE LINKE (EU-Parlament 2009-2014)', 'api_url': 'https://www.abgeordnetenwatch.de/api/v2/fractions/3', 'full_name': 'DIE LINKE', 'short_name': 'DIE LINKE', 'legislature': {'id': 79, 'entity_type': 'parliament_period', 'label': 'EU-Parlament 2009 - 2014', 'api_url': 'https://www.abgeordnetenwatch.de/api/v2/parliament-periods/79', 'abgeordnetenwatch_url': 'https://www.abgeordnetenwatch.de/eu/7'}}\n",
      "{'id': 2, 'entity_type': 'fraction', 'label': 'DIE LINKE (Berlin 2011-2016)', 'api_url': 'https://www.abgeordnetenwatch.de/api/v2/fractions/2', 'full_name': 'DIE LINKE', 'short_name': 'DIE LINKE', 'legislature': {'id': 63, 'entity_type': 'parliament_period', 'label': 'Berlin 2011 - 2016', 'api_url': 'https://www.abgeordnetenwatch.de/api/v2/parliament-periods/63', 'abgeordnetenwatch_url': 'https://www.abgeordnetenwatch.de/berlin/17'}}\n",
      "{'id': 1, 'entity_type': 'fraction', 'label': 'DIE LINKE (GUE/NGL) (EU-Parlament 2014-2019)', 'api_url': 'https://www.abgeordnetenwatch.de/api/v2/fractions/1', 'full_name': 'DIE LINKE (GUE/NGL)', 'short_name': 'DIE LINKE (GUE/NGL)', 'legislature': {'id': 62, 'entity_type': 'parliament_period', 'label': 'EU-Parlament 2014 - 2019', 'api_url': 'https://www.abgeordnetenwatch.de/api/v2/parliament-periods/62', 'abgeordnetenwatch_url': 'https://www.abgeordnetenwatch.de/eu/8'}}\n"
     ]
    }
   ],
   "source": [
    "link = 'https://www.abgeordnetenwatch.de/api/v2/fractions'\n",
    "df_list = load_data_preview(link)\n",
    "\n",
    "for i in df_list:\n",
    "    for key, value in i.items():\n",
    "        if key == \"data\":\n",
    "            for entry in value:\n",
    "                print(entry)\n"
   ]
  },
  {
   "cell_type": "markdown",
   "metadata": {},
   "source": [
    "# ElectoralList"
   ]
  },
  {
   "cell_type": "markdown",
   "metadata": {},
   "source": [
    "- Wahlliste (Ort + Periode)"
   ]
  },
  {
   "cell_type": "code",
   "execution_count": 75,
   "metadata": {},
   "outputs": [
    {
     "name": "stdout",
     "output_type": "stream",
     "text": [
      "{'id': 4, 'entity_type': 'electoral_list', 'label': 'Landesliste (Brandenburg 2009-2014)', 'api_url': 'https://www.abgeordnetenwatch.de/api/v2/electoral-lists/4', 'name': 'Landesliste', 'parliament_period': {'id': 82, 'entity_type': 'parliament_period', 'label': 'Brandenburg 2009 - 2014', 'api_url': 'https://www.abgeordnetenwatch.de/api/v2/parliament-periods/82', 'abgeordnetenwatch_url': 'https://www.abgeordnetenwatch.de/brandenburg/5'}}\n",
      "{'id': 3, 'entity_type': 'electoral_list', 'label': 'Landesliste (Thüringen 2014-2019)', 'api_url': 'https://www.abgeordnetenwatch.de/api/v2/electoral-lists/3', 'name': 'Landesliste', 'parliament_period': {'id': 101, 'entity_type': 'parliament_period', 'label': 'Thüringen 2014 - 2019', 'api_url': 'https://www.abgeordnetenwatch.de/api/v2/parliament-periods/101', 'abgeordnetenwatch_url': 'https://www.abgeordnetenwatch.de/thueringen/6'}}\n",
      "{'id': 2, 'entity_type': 'electoral_list', 'label': 'Landesliste (Sachsen 2014-2019)', 'api_url': 'https://www.abgeordnetenwatch.de/api/v2/electoral-lists/2', 'name': 'Landesliste', 'parliament_period': {'id': 100, 'entity_type': 'parliament_period', 'label': 'Sachsen 2014 - 2019', 'api_url': 'https://www.abgeordnetenwatch.de/api/v2/parliament-periods/100', 'abgeordnetenwatch_url': 'https://www.abgeordnetenwatch.de/sachsen/6'}}\n",
      "{'id': 1, 'entity_type': 'electoral_list', 'label': 'Landesliste (Brandenburg 2014-2019)', 'api_url': 'https://www.abgeordnetenwatch.de/api/v2/electoral-lists/1', 'name': 'Landesliste', 'parliament_period': {'id': 102, 'entity_type': 'parliament_period', 'label': 'Brandenburg 2014 - 2019', 'api_url': 'https://www.abgeordnetenwatch.de/api/v2/parliament-periods/102', 'abgeordnetenwatch_url': 'https://www.abgeordnetenwatch.de/brandenburg/6'}}\n"
     ]
    }
   ],
   "source": [
    "link = 'https://www.abgeordnetenwatch.de/api/v2/electoral-lists'\n",
    "df_list = load_data_preview(link)\n",
    "\n",
    "for i in df_list:\n",
    "    for key, value in i.items():\n",
    "        if key == \"data\":\n",
    "            for entry in value:\n",
    "                print(entry)\n"
   ]
  },
  {
   "cell_type": "markdown",
   "metadata": {},
   "source": [
    "# Constituency"
   ]
  },
  {
   "cell_type": "markdown",
   "metadata": {},
   "source": [
    "- Wahlkreis\n",
    "- Wahl + Periode"
   ]
  },
  {
   "cell_type": "code",
   "execution_count": 76,
   "metadata": {},
   "outputs": [
    {
     "name": "stdout",
     "output_type": "stream",
     "text": [
      "{'id': 12992, 'entity_type': 'constituency', 'label': '44 - Cottbus II (Brandenburg 2024 - 2029)', 'api_url': 'https://www.abgeordnetenwatch.de/api/v2/constituencies/12992', 'number': 44, 'name': 'Cottbus II'}\n",
      "{'id': 12991, 'entity_type': 'constituency', 'label': '43 - Cottbus I (Brandenburg 2024 - 2029)', 'api_url': 'https://www.abgeordnetenwatch.de/api/v2/constituencies/12991', 'number': 43, 'name': 'Cottbus I'}\n",
      "{'id': 12990, 'entity_type': 'constituency', 'label': '42 - Spree-Neiße II (Brandenburg 2024 - 2029)', 'api_url': 'https://www.abgeordnetenwatch.de/api/v2/constituencies/12990', 'number': 42, 'name': 'Spree-Neiße II'}\n",
      "{'id': 12989, 'entity_type': 'constituency', 'label': '41 - Spree-Neiße I (Brandenburg 2024 - 2029)', 'api_url': 'https://www.abgeordnetenwatch.de/api/v2/constituencies/12989', 'number': 41, 'name': 'Spree-Neiße I'}\n",
      "{'id': 12988, 'entity_type': 'constituency', 'label': '40 - Oberspreewald-Lausitz III / Spree-Neiße III (Brandenburg 2024 - 2029)', 'api_url': 'https://www.abgeordnetenwatch.de/api/v2/constituencies/12988', 'number': 40, 'name': 'Oberspreewald-Lausitz III / Spree-Neiße III'}\n"
     ]
    }
   ],
   "source": [
    "link = 'https://www.abgeordnetenwatch.de/api/v2/constituencies'\n",
    "df_list = load_data_preview(link, None)\n",
    "x=0\n",
    "for i in df_list:\n",
    "    for key, value in i.items():\n",
    "        if key == \"data\":\n",
    "            for entry in value:\n",
    "                x+=1\n",
    "                if x<=5:\n",
    "                    print(entry)"
   ]
  },
  {
   "cell_type": "markdown",
   "metadata": {},
   "source": [
    "# ElectionProgram"
   ]
  },
  {
   "cell_type": "markdown",
   "metadata": {},
   "source": [
    "- Wahlprogramm der Partei\n",
    "- Parlament + Periode\n",
    "- "
   ]
  },
  {
   "cell_type": "code",
   "execution_count": 77,
   "metadata": {},
   "outputs": [
    {
     "name": "stdout",
     "output_type": "stream",
     "text": [
      "{'id': 4, 'entity_type': 'election_program', 'label': 'Wahlprogramm FDP', 'api_url': 'https://www.abgeordnetenwatch.de/api/v2/election-program/4', 'parliament_period': {'id': 36, 'entity_type': 'parliament_period', 'label': 'Bundestag Wahl 2013', 'api_url': 'https://www.abgeordnetenwatch.de/api/v2/parliament-periods/36', 'abgeordnetenwatch_url': 'https://www.abgeordnetenwatch.de/bundestag/wahl-2013'}, 'party': {'id': 4, 'entity_type': 'party', 'label': 'FDP', 'api_url': 'https://www.abgeordnetenwatch.de/api/v2/parties/4'}, 'link': [{'uri': 'http://wahlprogramme.abgeordnetenwatch.de/2013/bundestag/fdp/index.php', 'title': 'Wahlprogramm durchblättern'}], 'file': 'https://www.abgeordnetenwatch.de/sites/default/files/election-program-files/fdp.pdf'}\n",
      "{'id': 3, 'entity_type': 'election_program', 'label': 'Wahlprogramm SPD', 'api_url': 'https://www.abgeordnetenwatch.de/api/v2/election-program/3', 'parliament_period': {'id': 36, 'entity_type': 'parliament_period', 'label': 'Bundestag Wahl 2013', 'api_url': 'https://www.abgeordnetenwatch.de/api/v2/parliament-periods/36', 'abgeordnetenwatch_url': 'https://www.abgeordnetenwatch.de/bundestag/wahl-2013'}, 'party': {'id': 1, 'entity_type': 'party', 'label': 'SPD', 'api_url': 'https://www.abgeordnetenwatch.de/api/v2/parties/1'}, 'link': [{'uri': 'http://wahlprogramme.abgeordnetenwatch.de/2013/bundestag/spd/index.php', 'title': 'Wahlprogramm durchblättern'}], 'file': 'https://www.abgeordnetenwatch.de/sites/default/files/election-program-files/spd.pdf'}\n",
      "{'id': 2, 'entity_type': 'election_program', 'label': 'Wahlprogramm CDU/CSU', 'api_url': 'https://www.abgeordnetenwatch.de/api/v2/election-program/2', 'parliament_period': {'id': 36, 'entity_type': 'parliament_period', 'label': 'Bundestag Wahl 2013', 'api_url': 'https://www.abgeordnetenwatch.de/api/v2/parliament-periods/36', 'abgeordnetenwatch_url': 'https://www.abgeordnetenwatch.de/bundestag/wahl-2013'}, 'party': {'id': 2, 'entity_type': 'party', 'label': 'CDU', 'api_url': 'https://www.abgeordnetenwatch.de/api/v2/parties/2'}, 'link': [{'uri': 'http://wahlprogramme.abgeordnetenwatch.de/2013/bundestag/cdu/index.php', 'title': 'Wahlprogramm durchblättern'}], 'file': 'https://www.abgeordnetenwatch.de/sites/default/files/election-program-files/cdu.pdf'}\n",
      "{'id': 1, 'entity_type': 'election_program', 'label': 'Wahlprogramm GRÜNE', 'api_url': 'https://www.abgeordnetenwatch.de/api/v2/election-program/1', 'parliament_period': {'id': 36, 'entity_type': 'parliament_period', 'label': 'Bundestag Wahl 2013', 'api_url': 'https://www.abgeordnetenwatch.de/api/v2/parliament-periods/36', 'abgeordnetenwatch_url': 'https://www.abgeordnetenwatch.de/bundestag/wahl-2013'}, 'party': {'id': 5, 'entity_type': 'party', 'label': 'Bündnis 90/Die Grünen', 'api_url': 'https://www.abgeordnetenwatch.de/api/v2/parties/5'}, 'link': [{'uri': 'http://wahlprogramme.abgeordnetenwatch.de/2013/bundestag/gruene/index.php', 'title': 'Wahlprogramm durchblättern'}], 'file': 'https://www.abgeordnetenwatch.de/sites/default/files/election-program-files/gruene_0.pdf'}\n"
     ]
    }
   ],
   "source": [
    "link = 'https://www.abgeordnetenwatch.de/api/v2/election-program'\n",
    "df_list = load_data_preview(link)\n",
    "\n",
    "for i in df_list:\n",
    "    for key, value in i.items():\n",
    "        if key == \"data\":\n",
    "            for entry in value:\n",
    "                print(entry)\n"
   ]
  },
  {
   "cell_type": "markdown",
   "metadata": {},
   "source": [
    "# Sidejob"
   ]
  },
  {
   "cell_type": "markdown",
   "metadata": {},
   "source": [
    "- Nebenjob\n",
    "- Mandat\n",
    "- Name Mandatsträger\n",
    "- Kategorie\n",
    "    29231 = Beteiligung an Kapital- oder Personengesellschaften\n",
    "    29647 = Entgeltliche Tätigkeiten neben dem Mandat\n",
    "    29229 = Funktionen in Körperschaften und Anstalten des öffentlichen Rechts\n",
    "    29228 = Funktionen in Unternehmen\n",
    "    29230 = Funktionen in Vereinen, Verbänden und Stiftungen\n",
    "    29232 = Spenden/Zuwendungen für politische Tätigkeit\n",
    "    29233 = Vereinbarungen über künftige Tätigkeiten oder Vermögensvorteile\n",
    "    29234 = Berufliche Tätigkeit vor der Mitgliedschaft im Deutschen Bundestag\n",
    "- Einkommenslevel\n",
    "        0 = 1 € bis 1.000 €\n",
    "        1 = 1.000 € bis 3.500 €\n",
    "        2 = 3.500 € bis 7.000 €\n",
    "        3 = 7.000 € bis 15.000 €\n",
    "        4 = 15.000 € bis 30.000 €\n",
    "        5 = 30.000 € bis 50.000 €\n",
    "        6 = 50.000 € bis 75.000 €\n",
    "        7 = 75.000 € bis 100.000 €\n",
    "        8 = 100.000 € bis 150.000 €\n",
    "        9 = 150.000 € bis 250.000 €\n",
    "        10 = ab 250.000 €\n",
    "- Interval\n",
    "    0 = einmalig\n",
    "    1 = monatlich\n",
    "    2 = jährlich\n",
    "- Nebenjob Organisation (für die der Mandatsträger tätig war)\n",
    "    - Land \n",
    "    - Stadt\n",
    "    - Themenbereich"
   ]
  },
  {
   "cell_type": "code",
   "execution_count": 78,
   "metadata": {},
   "outputs": [
    {
     "name": "stdout",
     "output_type": "stream",
     "text": [
      "{'id': 4, 'entity_type': 'sidejob', 'label': 'Mitglied des Beirates', 'api_url': 'https://www.abgeordnetenwatch.de/api/v2/sidejobs/4', 'job_title_extra': None, 'mandates': [{'id': 40314, 'entity_type': 'candidacy_mandate', 'label': 'Petra Rode-Bosse (Bundestag 2013-2017)', 'api_url': 'https://www.abgeordnetenwatch.de/api/v2/candidacies-mandates/40314'}], 'category': '29230', 'income_level': None, 'income': None, 'interval': None, 'data_change_date': '2018-11-19', 'sidejob_organization': {'id': 370, 'entity_type': 'sidejob_organization', 'label': 'Versicherungsombudsmann e.V.', 'api_url': 'https://www.abgeordnetenwatch.de/api/v2/sidejob-organizations/370'}, 'additional_information': None, 'created': 1495521642, 'field_city': None, 'field_country': {'id': 61, 'entity_type': 'taxonomy_term', 'label': 'Deutschland', 'api_url': 'https://www.abgeordnetenwatch.de/api/v2/countries/61'}, 'field_topics': [{'id': 22, 'entity_type': 'taxonomy_term', 'label': 'Öffentliche Finanzen, Steuern und Abgaben', 'api_url': 'https://www.abgeordnetenwatch.de/api/v2/topics/22', 'abgeordnetenwatch_url': 'https://www.abgeordnetenwatch.de/themen-dip21/oeffentliche-finanzen-steuern-und-abgaben'}, {'id': 41, 'entity_type': 'taxonomy_term', 'label': 'Finanzen', 'api_url': 'https://www.abgeordnetenwatch.de/api/v2/topics/41', 'abgeordnetenwatch_url': 'https://www.abgeordnetenwatch.de/themen-dip21/finanzen'}, {'id': 19, 'entity_type': 'taxonomy_term', 'label': 'Wirtschaft', 'api_url': 'https://www.abgeordnetenwatch.de/api/v2/topics/19', 'abgeordnetenwatch_url': 'https://www.abgeordnetenwatch.de/themen-dip21/wirtschaft'}], 'income_total': None}\n",
      "{'id': 3, 'entity_type': 'sidejob', 'label': 'Mitglied des Kuratoriums', 'api_url': 'https://www.abgeordnetenwatch.de/api/v2/sidejobs/3', 'job_title_extra': None, 'mandates': [{'id': 38644, 'entity_type': 'candidacy_mandate', 'label': 'Reiner Meier (Bundestag 2013-2017)', 'api_url': 'https://www.abgeordnetenwatch.de/api/v2/candidacies-mandates/38644'}], 'category': '29230', 'income_level': None, 'income': None, 'interval': None, 'data_change_date': '2018-11-19', 'sidejob_organization': {'id': 446, 'entity_type': 'sidejob_organization', 'label': 'XertifiX e.V.', 'api_url': 'https://www.abgeordnetenwatch.de/api/v2/sidejob-organizations/446'}, 'additional_information': None, 'created': 1495521580, 'field_city': None, 'field_country': {'id': 61, 'entity_type': 'taxonomy_term', 'label': 'Deutschland', 'api_url': 'https://www.abgeordnetenwatch.de/api/v2/countries/61'}, 'field_topics': [{'id': 11, 'entity_type': 'taxonomy_term', 'label': 'Außenwirtschaft', 'api_url': 'https://www.abgeordnetenwatch.de/api/v2/topics/11', 'abgeordnetenwatch_url': 'https://www.abgeordnetenwatch.de/themen-dip21/aussenwirtschaft'}, {'id': 17, 'entity_type': 'taxonomy_term', 'label': 'Entwicklungspolitik', 'api_url': 'https://www.abgeordnetenwatch.de/api/v2/topics/17', 'abgeordnetenwatch_url': 'https://www.abgeordnetenwatch.de/themen-dip21/entwicklungspolitik'}, {'id': 19, 'entity_type': 'taxonomy_term', 'label': 'Wirtschaft', 'api_url': 'https://www.abgeordnetenwatch.de/api/v2/topics/19', 'abgeordnetenwatch_url': 'https://www.abgeordnetenwatch.de/themen-dip21/wirtschaft'}], 'income_total': None}\n",
      "{'id': 2, 'entity_type': 'sidejob', 'label': 'Mitglied des Kuratoriums', 'api_url': 'https://www.abgeordnetenwatch.de/api/v2/sidejobs/2', 'job_title_extra': None, 'mandates': [{'id': 38644, 'entity_type': 'candidacy_mandate', 'label': 'Reiner Meier (Bundestag 2013-2017)', 'api_url': 'https://www.abgeordnetenwatch.de/api/v2/candidacies-mandates/38644'}], 'category': '29230', 'income_level': None, 'income': None, 'interval': None, 'data_change_date': '2018-11-19', 'sidejob_organization': {'id': 634, 'entity_type': 'sidejob_organization', 'label': 'Stiftung Kultur- und Begegnungszentrum Abtei Waldsassen', 'api_url': 'https://www.abgeordnetenwatch.de/api/v2/sidejob-organizations/634'}, 'additional_information': None, 'created': 1495521562, 'field_city': None, 'field_country': {'id': 61, 'entity_type': 'taxonomy_term', 'label': 'Deutschland', 'api_url': 'https://www.abgeordnetenwatch.de/api/v2/countries/61'}, 'field_topics': [{'id': 7, 'entity_type': 'taxonomy_term', 'label': 'Kultur', 'api_url': 'https://www.abgeordnetenwatch.de/api/v2/topics/7', 'abgeordnetenwatch_url': 'https://www.abgeordnetenwatch.de/themen-dip21/kultur'}], 'income_total': None}\n",
      "{'id': 1, 'entity_type': 'sidejob', 'label': 'Mitglied des Kreistages', 'api_url': 'https://www.abgeordnetenwatch.de/api/v2/sidejobs/1', 'job_title_extra': None, 'mandates': [{'id': 38644, 'entity_type': 'candidacy_mandate', 'label': 'Reiner Meier (Bundestag 2013-2017)', 'api_url': 'https://www.abgeordnetenwatch.de/api/v2/candidacies-mandates/38644'}], 'category': '29229', 'income_level': None, 'income': None, 'interval': None, 'data_change_date': '2018-11-19', 'sidejob_organization': {'id': 633, 'entity_type': 'sidejob_organization', 'label': 'Landkreis Tirschenreuth', 'api_url': 'https://www.abgeordnetenwatch.de/api/v2/sidejob-organizations/633'}, 'additional_information': None, 'created': 1495521528, 'field_city': None, 'field_country': {'id': 61, 'entity_type': 'taxonomy_term', 'label': 'Deutschland', 'api_url': 'https://www.abgeordnetenwatch.de/api/v2/countries/61'}, 'field_topics': [{'id': 24, 'entity_type': 'taxonomy_term', 'label': 'Staat und Verwaltung', 'api_url': 'https://www.abgeordnetenwatch.de/api/v2/topics/24', 'abgeordnetenwatch_url': 'https://www.abgeordnetenwatch.de/themen-dip21/staat-und-verwaltung'}], 'income_total': None}\n"
     ]
    }
   ],
   "source": [
    "link = 'https://www.abgeordnetenwatch.de/api/v2/sidejobs'\n",
    "\n",
    "df_list = load_data_preview(link)\n",
    "\n",
    "for i in df_list:\n",
    "    for key, value in i.items():\n",
    "        if key == \"data\":\n",
    "            for entry in value:\n",
    "                print(entry)"
   ]
  },
  {
   "cell_type": "markdown",
   "metadata": {},
   "source": [
    "# SidejobOrganization"
   ]
  },
  {
   "cell_type": "markdown",
   "metadata": {},
   "source": [
    "- Name, Land, Stadt, Themengebiet der Organisation "
   ]
  },
  {
   "cell_type": "code",
   "execution_count": 79,
   "metadata": {},
   "outputs": [
    {
     "name": "stdout",
     "output_type": "stream",
     "text": [
      "{'id': 4, 'entity_type': 'sidejob_organization', 'label': 'Heinrich-Böll-Stiftung e.V.', 'api_url': 'https://www.abgeordnetenwatch.de/api/v2/sidejob-organizations/4', 'field_city': {'id': 65, 'entity_type': 'taxonomy_term', 'label': 'Berlin', 'api_url': 'https://www.abgeordnetenwatch.de/api/v2/cities/65'}, 'field_country': {'id': 61, 'entity_type': 'taxonomy_term', 'label': 'Deutschland', 'api_url': 'https://www.abgeordnetenwatch.de/api/v2/countries/61'}, 'field_topics': [{'id': 27, 'entity_type': 'taxonomy_term', 'label': 'Politisches Leben, Parteien', 'api_url': 'https://www.abgeordnetenwatch.de/api/v2/topics/27', 'abgeordnetenwatch_url': 'https://www.abgeordnetenwatch.de/themen-dip21/politisches-leben-parteien'}]}\n",
      "{'id': 3, 'entity_type': 'sidejob_organization', 'label': 'RWE', 'api_url': 'https://www.abgeordnetenwatch.de/api/v2/sidejob-organizations/3', 'field_city': None, 'field_country': None, 'field_topics': None}\n",
      "{'id': 2, 'entity_type': 'sidejob_organization', 'label': 'Siemens', 'api_url': 'https://www.abgeordnetenwatch.de/api/v2/sidejob-organizations/2', 'field_city': None, 'field_country': None, 'field_topics': None}\n"
     ]
    }
   ],
   "source": [
    "link = 'https://www.abgeordnetenwatch.de/api/v2/sidejob-organizations'\n",
    "df_list = load_data_preview(link)\n",
    "\n",
    "for i in df_list:\n",
    "    for key, value in i.items():\n",
    "        if key == \"data\":\n",
    "            for entry in value:\n",
    "                print(entry)"
   ]
  },
  {
   "cell_type": "markdown",
   "metadata": {},
   "source": [
    "# Topic"
   ]
  },
  {
   "cell_type": "markdown",
   "metadata": {},
   "source": [
    "- Themen/Kategorien (u.a. für Nebenjobs)\n",
    "- angelehnt an die Dip21-Ketagorisierung der Bundestagsverwaltung."
   ]
  },
  {
   "cell_type": "code",
   "execution_count": 80,
   "metadata": {},
   "outputs": [
    {
     "name": "stdout",
     "output_type": "stream",
     "text": [
      "{'id': 2, 'entity_type': 'taxonomy_term', 'label': 'Arbeit und Beschäftigung', 'api_url': 'https://www.abgeordnetenwatch.de/api/v2/topics/2', 'abgeordnetenwatch_url': 'https://www.abgeordnetenwatch.de/themen-dip21/arbeit-und-beschaeftigung', 'description': None, 'parent': None}\n",
      "{'id': 3, 'entity_type': 'taxonomy_term', 'label': 'Bildung und Erziehung', 'api_url': 'https://www.abgeordnetenwatch.de/api/v2/topics/3', 'abgeordnetenwatch_url': 'https://www.abgeordnetenwatch.de/themen-dip21/bildung-und-erziehung', 'description': None, 'parent': None}\n",
      "{'id': 4, 'entity_type': 'taxonomy_term', 'label': 'Europapolitik und Europäische Union', 'api_url': 'https://www.abgeordnetenwatch.de/api/v2/topics/4', 'abgeordnetenwatch_url': 'https://www.abgeordnetenwatch.de/themen-dip21/europapolitik-und-europaeische-union', 'description': None, 'parent': None}\n",
      "{'id': 1, 'entity_type': 'taxonomy_term', 'label': 'Medien, Kommunikation und Informationstechnik', 'api_url': 'https://www.abgeordnetenwatch.de/api/v2/topics/1', 'abgeordnetenwatch_url': 'https://www.abgeordnetenwatch.de/themen-dip21/medien-kommunikation-und-informationstechnik', 'description': None, 'parent': None}\n"
     ]
    }
   ],
   "source": [
    "link = 'https://www.abgeordnetenwatch.de/api/v2/topics'\n",
    "df_list = load_data_preview(link)\n",
    "\n",
    "for i in df_list:\n",
    "    for key, value in i.items():\n",
    "        if key == \"data\":\n",
    "            for entry in value:\n",
    "                print(entry)"
   ]
  },
  {
   "cell_type": "markdown",
   "metadata": {},
   "source": [
    "# City"
   ]
  },
  {
   "cell_type": "markdown",
   "metadata": {},
   "source": [
    "Stadtname +  Beschreibung"
   ]
  },
  {
   "cell_type": "code",
   "execution_count": 81,
   "metadata": {},
   "outputs": [
    {
     "name": "stdout",
     "output_type": "stream",
     "text": [
      "{'id': 311, 'entity_type': 'taxonomy_term', 'label': 'Aachen', 'api_url': 'https://www.abgeordnetenwatch.de/api/v2/cities/311', 'description': None, 'parent': None}\n",
      "{'id': 952, 'entity_type': 'taxonomy_term', 'label': 'Aalen', 'api_url': 'https://www.abgeordnetenwatch.de/api/v2/cities/952', 'description': None, 'parent': None}\n",
      "{'id': 116, 'entity_type': 'taxonomy_term', 'label': 'Abensberg', 'api_url': 'https://www.abgeordnetenwatch.de/api/v2/cities/116', 'description': None, 'parent': None}\n",
      "{'id': 898, 'entity_type': 'taxonomy_term', 'label': 'Abidjan', 'api_url': 'https://www.abgeordnetenwatch.de/api/v2/cities/898', 'description': None, 'parent': None}\n",
      "{'id': 1256, 'entity_type': 'taxonomy_term', 'label': 'Achim', 'api_url': 'https://www.abgeordnetenwatch.de/api/v2/cities/1256', 'description': None, 'parent': None}\n"
     ]
    }
   ],
   "source": [
    "link = 'https://www.abgeordnetenwatch.de/api/v2/cities'\n",
    "df_list = load_data_preview(link, None)\n",
    "x=0\n",
    "for i in df_list:\n",
    "    for key, value in i.items():\n",
    "        if key == \"data\":\n",
    "            for entry in value:\n",
    "                x+=1\n",
    "                if x<=5:\n",
    "                    print(entry)"
   ]
  },
  {
   "cell_type": "markdown",
   "metadata": {},
   "source": [
    "# Country"
   ]
  },
  {
   "cell_type": "markdown",
   "metadata": {},
   "source": [
    "- Land (+ Beschreibung)"
   ]
  },
  {
   "cell_type": "code",
   "execution_count": 82,
   "metadata": {},
   "outputs": [
    {
     "name": "stdout",
     "output_type": "stream",
     "text": [
      "{'id': 863, 'entity_type': 'taxonomy_term', 'label': 'Ägypten', 'api_url': 'https://www.abgeordnetenwatch.de/api/v2/countries/863', 'description': None, 'parent': None}\n",
      "{'id': 3417, 'entity_type': 'taxonomy_term', 'label': 'Barbados', 'api_url': 'https://www.abgeordnetenwatch.de/api/v2/countries/3417', 'description': None, 'parent': None}\n",
      "{'id': 398, 'entity_type': 'taxonomy_term', 'label': 'Belgien', 'api_url': 'https://www.abgeordnetenwatch.de/api/v2/countries/398', 'description': None, 'parent': None}\n",
      "{'id': 2646, 'entity_type': 'taxonomy_term', 'label': 'Canada', 'api_url': 'https://www.abgeordnetenwatch.de/api/v2/countries/2646', 'description': None, 'parent': None}\n",
      "{'id': 1222, 'entity_type': 'taxonomy_term', 'label': 'China', 'api_url': 'https://www.abgeordnetenwatch.de/api/v2/countries/1222', 'description': None, 'parent': None}\n"
     ]
    }
   ],
   "source": [
    "link = 'https://www.abgeordnetenwatch.de/api/v2/countries'\n",
    "df_list = load_data_preview(link, None)\n",
    "x=0\n",
    "for i in df_list:\n",
    "    for key, value in i.items():\n",
    "        if key == \"data\":\n",
    "            for entry in value:\n",
    "                x+=1\n",
    "                if x<=5:\n",
    "                    print(entry)"
   ]
  }
 ],
 "metadata": {
  "kernelspec": {
   "display_name": "venv_ti",
   "language": "python",
   "name": "python3"
  },
  "language_info": {
   "codemirror_mode": {
    "name": "ipython",
    "version": 3
   },
   "file_extension": ".py",
   "mimetype": "text/x-python",
   "name": "python",
   "nbconvert_exporter": "python",
   "pygments_lexer": "ipython3",
   "version": "3.11.0"
  }
 },
 "nbformat": 4,
 "nbformat_minor": 2
}
